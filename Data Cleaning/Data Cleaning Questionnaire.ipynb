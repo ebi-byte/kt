{
 "cells": [
  {
   "cell_type": "markdown",
   "metadata": {},
   "source": [
    "#### Questionnaire"
   ]
  },
  {
   "cell_type": "markdown",
   "metadata": {},
   "source": [
    "##### Why do we need missing value imputation over rows deletion?\n",
    "\n",
    "The two major advantages of missing data imputation over rows deletion:  \n",
    "1.The variance of analyses based on imputed data is usually lower, since missing data imputation does not reduce your sample size.  \n",
    "2.Depending on the response mechanism, missing data imputation outperforms rows deletion in terms of bias.   \n",
    "Missing data imputation almost always improves the quality of our data."
   ]
  },
  {
   "cell_type": "markdown",
   "metadata": {},
   "source": [
    "##### What are the problems with using mean-imputed variables in statistical analyses?\n",
    "\n",
    "There are three problems with using mean-imputed variables in statistical analyses:   \n",
    "1.Mean imputation reduces the variance of the imputed variables.  \n",
    "2.Mean imputation shrinks standard errors, which invalidates most hypothesis tests and the calculation of confidence interval.  \n",
    "3.Mean imputation does not preserve relationships between variables such as correlations."
   ]
  },
  {
   "cell_type": "markdown",
   "metadata": {},
   "source": [
    "##### Which value can be used for missing value imputation?\n",
    "\n",
    "Often a simple, if not always satisfactory, choice for missing values that are known not to be zero is to use some 'central' value of the variable. This is often the mean, median, or mode, and thus usually has limited impact on the distribution. We might choose to use the mean, for example, if the variable is otherwise generally normally distributed (and in particular does not have any skewness). If the data does exhibit some skewness though (e.g., there are a small number of very large values) then the median might be a better choice. \n",
    "\n",
    "For categoric variables, there is, of course, no mean nor median, and so in such cases we might choose to use the mode (the most frequent value) as the default to fill in for the otherwise missing values. The mode can also be used for numeric variables."
   ]
  }
 ],
 "metadata": {
  "kernelspec": {
   "display_name": "Python 3",
   "language": "python",
   "name": "python3"
  },
  "language_info": {
   "codemirror_mode": {
    "name": "ipython",
    "version": 3
   },
   "file_extension": ".py",
   "mimetype": "text/x-python",
   "name": "python",
   "nbconvert_exporter": "python",
   "pygments_lexer": "ipython3",
   "version": "3.7.3"
  }
 },
 "nbformat": 4,
 "nbformat_minor": 2
}
