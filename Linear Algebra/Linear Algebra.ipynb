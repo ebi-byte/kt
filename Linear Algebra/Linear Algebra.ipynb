{
 "cells": [
  {
   "cell_type": "markdown",
   "metadata": {},
   "source": [
    "## Vector"
   ]
  },
  {
   "cell_type": "markdown",
   "metadata": {},
   "source": [
    "Vectors are built from components, which are ordinary numbers. We can think of a vector as a list of numbers, and vector algebra as operations performed on the numbers in the list."
   ]
  },
  {
   "cell_type": "markdown",
   "metadata": {},
   "source": [
    "Vectors are used throughout the field of machine learning in the description of algorithms and processes such as the target variable (y) when training an algorithm."
   ]
  },
  {
   "cell_type": "markdown",
   "metadata": {},
   "source": [
    "Vectors are often represented using a lowercase character such as “v”; for example:"
   ]
  },
  {
   "cell_type": "raw",
   "metadata": {},
   "source": [
    "v = (v1, v2, v3)"
   ]
  },
  {
   "cell_type": "markdown",
   "metadata": {},
   "source": [
    "Where v1, v2, v3 are scalar values, often real values.\n",
    "\n",
    "Vectors are also shown using a vertical representation or a column; for example:"
   ]
  },
  {
   "cell_type": "raw",
   "metadata": {},
   "source": [
    "      v1\n",
    "v = ( v2 )\n",
    "      v3"
   ]
  },
  {
   "cell_type": "markdown",
   "metadata": {},
   "source": [
    "The vector can also be thought of as a line from the origin of the vector space with a direction and a magnitude.\n",
    "\n",
    "Now that we know what a vector is, let’s look at how to define a vector in Python.\n",
    "\n",
    "We can represent a vector in Python as a NumPy array.\n",
    "\n",
    "A NumPy array can be created from a list of numbers. For example, below we define a vector with the length of 3 and the integer values 1, 2 and 3."
   ]
  },
  {
   "cell_type": "code",
   "execution_count": 1,
   "metadata": {},
   "outputs": [
    {
     "name": "stdout",
     "output_type": "stream",
     "text": [
      "[1 2 3]\n"
     ]
    }
   ],
   "source": [
    "# create a vector\n",
    "from numpy import array\n",
    "v = array([1, 2, 3])\n",
    "print(v)"
   ]
  },
  {
   "cell_type": "markdown",
   "metadata": {},
   "source": [
    "The example defines a vector with 3 elements."
   ]
  },
  {
   "cell_type": "markdown",
   "metadata": {},
   "source": [
    "#### Vector Addition\n",
    "\n",
    "Two vectors of equal length can be added together to create a new third vector."
   ]
  },
  {
   "cell_type": "raw",
   "metadata": {},
   "source": [
    "c = a + b"
   ]
  },
  {
   "cell_type": "markdown",
   "metadata": {},
   "source": [
    "The new vector has the same length as the other two vectors. Each element of the new vector is calculated as the addition of the elements of the other vectors at the same index; for example:"
   ]
  },
  {
   "cell_type": "raw",
   "metadata": {},
   "source": [
    "c = a + b = (a1 + b1, a2 + b2, a3 + b3)\n",
    "\n",
    "or\n",
    "\n",
    "c[0] = a[0] + b[0]\n",
    "c[1] = a[1] + b[1]\n",
    "c[2] = a[2] + b[2]"
   ]
  },
  {
   "cell_type": "markdown",
   "metadata": {},
   "source": [
    "We can add vectors directly in Python by adding NumPy arrays."
   ]
  },
  {
   "cell_type": "code",
   "execution_count": 2,
   "metadata": {},
   "outputs": [
    {
     "name": "stdout",
     "output_type": "stream",
     "text": [
      "[1 2 3]\n",
      "[1 2 3]\n",
      "[2 4 6]\n"
     ]
    }
   ],
   "source": [
    "# add vectors\n",
    "from numpy import array\n",
    "a = array([1, 2, 3])\n",
    "print(a)\n",
    "b = array([1, 2, 3])\n",
    "print(b)\n",
    "c = a + b\n",
    "print(c)"
   ]
  },
  {
   "cell_type": "markdown",
   "metadata": {},
   "source": [
    "Similarly, vector subtraction can be performed in the same way."
   ]
  },
  {
   "cell_type": "markdown",
   "metadata": {},
   "source": [
    "#### Vector Multiplication\n",
    "\n",
    "Two vectors of equal length can be multiplied together."
   ]
  },
  {
   "cell_type": "raw",
   "metadata": {},
   "source": [
    "c = a * b"
   ]
  },
  {
   "cell_type": "markdown",
   "metadata": {},
   "source": [
    "As with addition, this operation is performed element-wise to result in a new vector of the same length."
   ]
  },
  {
   "cell_type": "raw",
   "metadata": {},
   "source": [
    "a * b = (a1 * b1, a2 * b2, a3 * b3)\n",
    "\n",
    "or\n",
    "\n",
    "ab = (a1b1, a2b2, a3b3)\n",
    "\n",
    "or\n",
    "\n",
    "c[0] = a[0] * b[0]\n",
    "c[1] = a[1] * b[1]\n",
    "c[2] = a[2] * b[2]"
   ]
  },
  {
   "cell_type": "markdown",
   "metadata": {},
   "source": [
    "We can perform this operation directly in NumPy."
   ]
  },
  {
   "cell_type": "code",
   "execution_count": 3,
   "metadata": {},
   "outputs": [
    {
     "name": "stdout",
     "output_type": "stream",
     "text": [
      "[1 2 3]\n",
      "[1 2 3]\n",
      "[1 4 9]\n"
     ]
    }
   ],
   "source": [
    "# multiply vectors\n",
    "from numpy import array\n",
    "a = array([1, 2, 3])\n",
    "print(a)\n",
    "b = array([1, 2, 3])\n",
    "print(b)\n",
    "c = a * b\n",
    "print(c)"
   ]
  },
  {
   "cell_type": "markdown",
   "metadata": {},
   "source": [
    "Similarly, vector division can be performed in the same way."
   ]
  },
  {
   "cell_type": "markdown",
   "metadata": {},
   "source": [
    "#### Vector Dot Product\n",
    "\n",
    "We can calculate the sum of the multiplied elements of two vectors of the same length to give a scalar.\n",
    "\n",
    "The dot product is the key tool for calculating vector projections, vector decompositions, and determining orthogonality. The name dot product comes from the symbol used to denote it."
   ]
  },
  {
   "cell_type": "raw",
   "metadata": {},
   "source": [
    "c = a . b"
   ]
  },
  {
   "cell_type": "markdown",
   "metadata": {},
   "source": [
    "The operation can be used in machine learning to calculate the weighted sum of a vector.\n",
    "\n",
    "The dot product is calculated as follows:"
   ]
  },
  {
   "cell_type": "raw",
   "metadata": {},
   "source": [
    "a . b = (a1 * b1 + a2 * b2 + a3 * b3)"
   ]
  },
  {
   "cell_type": "markdown",
   "metadata": {},
   "source": [
    "We can calculate the dot product between two vectors in Python using the dot() function on a NumPy array."
   ]
  },
  {
   "cell_type": "code",
   "execution_count": 4,
   "metadata": {},
   "outputs": [
    {
     "name": "stdout",
     "output_type": "stream",
     "text": [
      "[1 2 3]\n",
      "[1 2 3]\n",
      "14\n"
     ]
    }
   ],
   "source": [
    "# dot product vectors\n",
    "from numpy import array\n",
    "a = array([1, 2, 3])\n",
    "print(a)\n",
    "b = array([1, 2, 3])\n",
    "print(b)\n",
    "c = a.dot(b)\n",
    "print(c)"
   ]
  },
  {
   "cell_type": "markdown",
   "metadata": {},
   "source": [
    "#### Vector-Scalar Multiplication\n",
    "\n",
    "A vector can be multiplied by a scalar, in effect scaling the magnitude of the vector.\n",
    "\n",
    "To keep notation simple, we will use lowercase “s” to represent the scalar value."
   ]
  },
  {
   "cell_type": "raw",
   "metadata": {},
   "source": [
    "c = s * v"
   ]
  },
  {
   "cell_type": "markdown",
   "metadata": {},
   "source": [
    "The multiplication is performed on each element of the vector to result in a new scaled vector of the same length."
   ]
  },
  {
   "cell_type": "raw",
   "metadata": {},
   "source": [
    "s * v = (s * v1, s * v2, s * v3)\n",
    "\n",
    "or\n",
    "\n",
    "c[0] = a[0] * s\n",
    "c[1] = a[1] * s\n",
    "c[2] = a[2] * s"
   ]
  },
  {
   "cell_type": "markdown",
   "metadata": {},
   "source": [
    "We can perform this operation directly with the NumPy array."
   ]
  },
  {
   "cell_type": "code",
   "execution_count": 6,
   "metadata": {},
   "outputs": [
    {
     "name": "stdout",
     "output_type": "stream",
     "text": [
      "[1 2 3]\n",
      "2\n",
      "[2 4 6]\n"
     ]
    }
   ],
   "source": [
    "# vector-scalar multiplication\n",
    "from numpy import array\n",
    "a = array([1, 2, 3])\n",
    "print(a)\n",
    "s = 2\n",
    "print(s)\n",
    "c = s * a\n",
    "print(c)"
   ]
  },
  {
   "cell_type": "markdown",
   "metadata": {},
   "source": [
    "Similarly, vector-scalar addition, subtraction, and division can be performed in the same way."
   ]
  },
  {
   "cell_type": "markdown",
   "metadata": {},
   "source": [
    "## Matrix"
   ]
  },
  {
   "cell_type": "markdown",
   "metadata": {},
   "source": [
    "A matrix is a two-dimensional array of scalars with one or more columns and one or more rows.\n",
    "\n",
    "The notation for a matrix is often an uppercase letter, such as A, and entries are referred to by their two-dimensional subscript of row (i) and column (j), such as aij. For example:"
   ]
  },
  {
   "cell_type": "raw",
   "metadata": {},
   "source": [
    "A = ((a11, a12), (a21, 22), (a31, a32))\n",
    "\n",
    "or\n",
    "\n",
    "     a11, a12\n",
    "A = (a21, a22)\n",
    "     a31, a32"
   ]
  },
  {
   "cell_type": "markdown",
   "metadata": {},
   "source": [
    "A likely first place we may encounter a matrix in machine learning is in model training data comprised of many rows and columns and often represented using the capital letter “X”.\n",
    "\n",
    "The geometric analogy used to help understand vectors and some of their operations does not hold with matrices. Further, a vector itself may be considered a matrix with one column and multiple rows.\n",
    "\n",
    "Often the dimensions of the matrix are denoted as m and n for the number of rows and the number of columns."
   ]
  },
  {
   "cell_type": "markdown",
   "metadata": {},
   "source": [
    "A NumPy array can be constructed given a list of lists. For example, below is a 2 row, 3 column matrix."
   ]
  },
  {
   "cell_type": "code",
   "execution_count": 8,
   "metadata": {},
   "outputs": [
    {
     "name": "stdout",
     "output_type": "stream",
     "text": [
      "[[1 2 3]\n",
      " [4 5 6]]\n"
     ]
    }
   ],
   "source": [
    "# create matrix\n",
    "from numpy import array\n",
    "A = array([[1, 2, 3], [4, 5, 6]])\n",
    "print(A)"
   ]
  },
  {
   "cell_type": "markdown",
   "metadata": {},
   "source": [
    "#### Matrix Addition\n",
    "\n",
    "Two matrices with the same dimensions can be added together to create a new third matrix.\n",
    "\n",
    "The scalar elements in the resulting matrix are calculated as the addition of the elements in each of the matrices being added."
   ]
  },
  {
   "cell_type": "raw",
   "metadata": {},
   "source": [
    "             a11 + b11, a12 + b12\n",
    "c = A + B = (a21 + b21, a22 + b22)\n",
    "             a31 + b31, a32 + b32\n",
    "or\n",
    "\n",
    "C[0,0] = A[0,0] + B[0,0]\n",
    "C[1,0] = A[1,0] + B[1,0]\n",
    "C[2,0] = A[2,0] + B[2,0]\n",
    "C[0,1] = A[0,1] + B[0,1]\n",
    "C[1,1] = A[1,1] + B[1,1]\n",
    "C[2,1] = A[2,1] + B[2,1]"
   ]
  },
  {
   "cell_type": "markdown",
   "metadata": {},
   "source": [
    "We can implement this in python using the plus operator directly on the two NumPy arrays."
   ]
  },
  {
   "cell_type": "code",
   "execution_count": 12,
   "metadata": {},
   "outputs": [
    {
     "name": "stdout",
     "output_type": "stream",
     "text": [
      "[[1 2 3]\n",
      " [4 5 6]]\n",
      "[[1 2 3]\n",
      " [4 5 6]]\n",
      "[[ 2  4  6]\n",
      " [ 8 10 12]]\n"
     ]
    }
   ],
   "source": [
    "# add matrices\n",
    "from numpy import array\n",
    "A = array([[1, 2, 3], [4, 5, 6]])\n",
    "print(A)\n",
    "B = array([[1, 2, 3], [4, 5, 6]])\n",
    "print(B)\n",
    "C = A + B\n",
    "print(C)"
   ]
  },
  {
   "cell_type": "markdown",
   "metadata": {},
   "source": [
    "Similarly, one matrix can be subtracted from another matrix with the same dimensions."
   ]
  },
  {
   "cell_type": "markdown",
   "metadata": {},
   "source": [
    "#### Matrix Multiplication (Hadamard Product)\n",
    "\n",
    "Two matrices with the same size can be multiplied together, and this is often called element-wise matrix multiplication or the Hadamard product.\n",
    "\n",
    "It is not the typical operation meant when referring to matrix multiplication, therefore a different operator is often used, such as a circle “o”.\n",
    "\n",
    "As with element-wise subtraction and addition, element-wise multiplication involves the multiplication of elements from each parent matrix to calculate the values in the new matrix."
   ]
  },
  {
   "cell_type": "raw",
   "metadata": {},
   "source": [
    "             a11 * b11, a12 * b12\n",
    "C = A o B = (a21 * b21, a22 * b22)\n",
    "             a31 * b31, a32 * b32\n",
    "or\n",
    "\n",
    "C[0,0] = A[0,0] * B[0,0]\n",
    "C[1,0] = A[1,0] * B[1,0]\n",
    "C[2,0] = A[2,0] * B[2,0]\n",
    "C[0,1] = A[0,1] * B[0,1]\n",
    "C[1,1] = A[1,1] * B[1,1]\n",
    "C[2,1] = A[2,1] * B[2,1]"
   ]
  },
  {
   "cell_type": "markdown",
   "metadata": {},
   "source": [
    "We can implement this in python using the star operator directly on the two NumPy arrays."
   ]
  },
  {
   "cell_type": "code",
   "execution_count": 127,
   "metadata": {},
   "outputs": [
    {
     "name": "stdout",
     "output_type": "stream",
     "text": [
      "[[1 2 3]\n",
      " [4 5 6]]\n",
      "[[1 2 3]\n",
      " [4 5 6]]\n",
      "[[ 1  4  9]\n",
      " [16 25 36]]\n"
     ]
    }
   ],
   "source": [
    "# element-wise multiply matrices\n",
    "from numpy import array\n",
    "A = array([[1, 2, 3], [4, 5, 6]])\n",
    "print(A)\n",
    "B = array([[1, 2, 3], [4, 5, 6]])\n",
    "print(B)\n",
    "C = A * B\n",
    "print(C)"
   ]
  },
  {
   "cell_type": "markdown",
   "metadata": {},
   "source": [
    "#### Matrix-Matrix Multiplication (Dot Product)\n",
    "\n",
    "Matrix multiplication, also called the matrix dot product is more complicated than the previous operations and involves a rule as not all matrices can be multiplied together."
   ]
  },
  {
   "cell_type": "raw",
   "metadata": {},
   "source": [
    "C = A * B\n",
    "\n",
    "or\n",
    "\n",
    "C = AB"
   ]
  },
  {
   "cell_type": "markdown",
   "metadata": {},
   "source": [
    "The rule for matrix multiplication is as follows:  \n",
    "•The number of columns (n) in the first matrix (A) must equal the number of rows (m) in the second matrix (B).\n",
    "\n",
    "For example, matrix A has the dimensions m rows and n columns and matrix B has the dimensions n and k. The n columns in A and n rows b are equal. The result is a new matrix with m rows and k columns."
   ]
  },
  {
   "cell_type": "raw",
   "metadata": {},
   "source": [
    "C(m,k) = A(m,n) * B(n,k)"
   ]
  },
  {
   "cell_type": "markdown",
   "metadata": {},
   "source": [
    "This rule applies for a chain of matrix multiplications where the number of columns in one matrix in the chain must match the number of rows in the following matrix in the chain.\n",
    "\n",
    "One of the most important operations involving matrices is multiplication of two matrices. The matrix product of matrices A and B is a third matrix C. In order for this product to be defined, A must have the same number of columns as B has rows. If A is of shape m × n and B is of shape n × p, then C is of shape m × p."
   ]
  },
  {
   "cell_type": "markdown",
   "metadata": {},
   "source": [
    "The intuition for the matrix multiplication is that we are calculating the dot product between each row in matrix A with each column in matrix B. For example, we can step down rows of column A and multiply each with column 1 in B to give the scalar values in column 1 of C.\n",
    "\n",
    "Below describes the matrix multiplication using matrix notation."
   ]
  },
  {
   "cell_type": "raw",
   "metadata": {},
   "source": [
    "     a11, a12\n",
    "A = (a21, a22)\n",
    "     a31, a32\n",
    "\n",
    "     b11, b12\n",
    "B = (b21, b22)\n",
    "\n",
    "     a11 * b11 + a12 * b21, a11 * b12 + a12 * b22\n",
    "C = (a21 * b11 + a22 * b21, a21 * b12 + a22 * b22)\n",
    "     a31 * b11 + a32 * b21, a31 * b12 + a32 * b22"
   ]
  },
  {
   "cell_type": "markdown",
   "metadata": {},
   "source": [
    "We can describe the matrix multiplication operation using array notation."
   ]
  },
  {
   "cell_type": "code",
   "execution_count": 15,
   "metadata": {},
   "outputs": [
    {
     "name": "stdout",
     "output_type": "stream",
     "text": [
      "[[1 2]\n",
      " [3 4]\n",
      " [5 6]]\n",
      "[[1 2]\n",
      " [3 4]]\n",
      "[[ 7 10]\n",
      " [15 22]\n",
      " [23 34]]\n"
     ]
    }
   ],
   "source": [
    "# matrix dot product\n",
    "from numpy import array\n",
    "A = array([[1, 2], [3, 4], [5, 6]])\n",
    "print(A)\n",
    "B = array([[1, 2], [3, 4]])\n",
    "print(B)\n",
    "C = A.dot(B)\n",
    "print(C)"
   ]
  },
  {
   "cell_type": "markdown",
   "metadata": {},
   "source": [
    "#### Matrix-Vector Multiplication\n",
    "\n",
    "A matrix and a vector can be multiplied together as long as the rule of matrix multiplication is observed.\n",
    "\n",
    "Specifically, that the number of columns in the matrix must equal the number of items in the vector. As with matrix multiplication, the operation can be written using the dot notation. Because the vector only has one column, the result is always a vector."
   ]
  },
  {
   "cell_type": "raw",
   "metadata": {},
   "source": [
    "c = A . v\n",
    "\n",
    "     a11, a12\n",
    "A = (a21, a22)\n",
    "     a31, a32\n",
    "\n",
    "     v1\n",
    "v = (v2)\n",
    "\n",
    "     a11 * v1 + a12 * v2\n",
    "c = (a21 * v1 + a22 * v2)\n",
    "     a31 * v1 + a32 * v2"
   ]
  },
  {
   "cell_type": "markdown",
   "metadata": {},
   "source": [
    "The matrix-vector multiplication can be implemented in NumPy using the dot() function."
   ]
  },
  {
   "cell_type": "code",
   "execution_count": 18,
   "metadata": {},
   "outputs": [
    {
     "name": "stdout",
     "output_type": "stream",
     "text": [
      "[[1 2]\n",
      " [3 4]\n",
      " [5 6]]\n",
      "[5 2]\n",
      "[ 9 23 37]\n"
     ]
    }
   ],
   "source": [
    "# matrix-vector multiplication\n",
    "from numpy import array\n",
    "A = array([[1, 2], [3, 4], [5, 6]])\n",
    "print(A)\n",
    "B = array([5, 2])\n",
    "print(B)\n",
    "C = A.dot(B)\n",
    "print(C)"
   ]
  },
  {
   "cell_type": "markdown",
   "metadata": {},
   "source": [
    "#### Matrix-Scalar Multiplication\n",
    "\n",
    "A matrix can be multiplied by a scalar.\n",
    "\n",
    "This can be represented using the dot notation between the matrix and the scalar."
   ]
  },
  {
   "cell_type": "raw",
   "metadata": {},
   "source": [
    "C = A . b\n",
    "\n",
    "     a11, a12\n",
    "A = (a21, a22)\n",
    "     a31, a32\n",
    "\n",
    "b\n",
    "\n",
    "     a11 * b, a12 * b\n",
    "C = (a21 * b, a22 * b)\n",
    "     a31 * b, a32 * b"
   ]
  },
  {
   "cell_type": "markdown",
   "metadata": {},
   "source": [
    "We can also represent this with array notation."
   ]
  },
  {
   "cell_type": "raw",
   "metadata": {},
   "source": [
    "C[0,0] = A[0,0] * b\n",
    "C[1,0] = A[1,0] * b\n",
    "C[2,0] = A[2,0] * b\n",
    "C[0,1] = A[0,1] * b\n",
    "C[1,1] = A[1,1] * b\n",
    "C[2,1] = A[2,1] * b"
   ]
  },
  {
   "cell_type": "markdown",
   "metadata": {},
   "source": [
    "This can be implemented directly in NumPy with the multiplication operator."
   ]
  },
  {
   "cell_type": "code",
   "execution_count": 20,
   "metadata": {},
   "outputs": [
    {
     "name": "stdout",
     "output_type": "stream",
     "text": [
      "[[1 2]\n",
      " [3 4]\n",
      " [5 6]]\n",
      "3\n",
      "[[ 3  6]\n",
      " [ 9 12]\n",
      " [15 18]]\n"
     ]
    }
   ],
   "source": [
    "# matrix-scalar multiplication\n",
    "from numpy import array\n",
    "A = array([[1, 2], [3, 4], [5, 6]])\n",
    "print(A)\n",
    "b = 3\n",
    "print(b)\n",
    "C = A * b\n",
    "print(C)"
   ]
  },
  {
   "cell_type": "markdown",
   "metadata": {},
   "source": [
    "#### Transpose of a Matrix\n",
    "\n",
    "A defined matrix can be transposed, which creates a new matrix with the number of columns and rows flipped.\n",
    "\n",
    "This is denoted by the superscript “T” next to the matrix."
   ]
  },
  {
   "cell_type": "raw",
   "metadata": {},
   "source": [
    "C = A^T\n",
    "\n",
    "     a11, a12\n",
    "A = (a21, a22)\n",
    "     a31, a32\n",
    "\n",
    "           a11, a21, a31\n",
    "C = A^T = (a12, a22, a32)"
   ]
  },
  {
   "cell_type": "markdown",
   "metadata": {},
   "source": [
    "The operation has no effect if the matrix is symmetrical, e.g. has the same number of columns and rows and the same values at the same locations on both sides of the invisible diagonal line.\n",
    "\n",
    "The columns of A^T are the rows of A.\n",
    "\n",
    "We can transpose a matrix in NumPy by calling the T attribute."
   ]
  },
  {
   "cell_type": "code",
   "execution_count": 21,
   "metadata": {},
   "outputs": [
    {
     "name": "stdout",
     "output_type": "stream",
     "text": [
      "[[1 2]\n",
      " [3 4]\n",
      " [5 6]]\n",
      "[[1 3 5]\n",
      " [2 4 6]]\n"
     ]
    }
   ],
   "source": [
    "# transpose matrix\n",
    "from numpy import array\n",
    "A = array([[1, 2], [3, 4], [5, 6]])\n",
    "print(A)\n",
    "C = A.T\n",
    "print(C)"
   ]
  },
  {
   "cell_type": "markdown",
   "metadata": {},
   "source": [
    "#### Matrix inversion\n",
    "\n",
    "Matrix inversion is a process that finds another matrix that when multiplied with the matrix, results in an identity matrix.\n",
    "\n",
    "Given a matrix A, find matrix B, such that AB or BA = I."
   ]
  },
  {
   "cell_type": "raw",
   "metadata": {},
   "source": [
    "AB = BA = I"
   ]
  },
  {
   "cell_type": "markdown",
   "metadata": {},
   "source": [
    "The operation of inverting a matrix is indicated by a -1 superscript next to the matrix; for example, A^-1. The result of the operation is referred to as the inverse of the original matrix; for example,   \n",
    "B is the inverse of A."
   ]
  },
  {
   "cell_type": "raw",
   "metadata": {},
   "source": [
    "B = A^-1"
   ]
  },
  {
   "cell_type": "markdown",
   "metadata": {},
   "source": [
    "A matrix is invertible if there exists another matrix that results in the identity matrix, where not all matrices are invertible. A square matrix that is not invertible is referred to as singular.\n",
    "\n",
    "The matrix inversion operation is not computed directly, but rather the inverted matrix is discovered through a numerical operation, where a suite of efficient methods may be used, often involving forms of matrix decomposition.\n",
    "\n",
    "However, A^−1 is primarily useful as a theoretical tool, and should not actually be used in practice for most software applications."
   ]
  },
  {
   "cell_type": "markdown",
   "metadata": {},
   "source": [
    "A matrix can be inverted in NumPy using the inv() function."
   ]
  },
  {
   "cell_type": "code",
   "execution_count": 22,
   "metadata": {},
   "outputs": [
    {
     "name": "stdout",
     "output_type": "stream",
     "text": [
      "[[1. 2.]\n",
      " [3. 4.]]\n",
      "[[-2.   1. ]\n",
      " [ 1.5 -0.5]]\n",
      "[[1.00000000e+00 1.11022302e-16]\n",
      " [0.00000000e+00 1.00000000e+00]]\n"
     ]
    }
   ],
   "source": [
    "# invert matrix\n",
    "from numpy import array\n",
    "from numpy.linalg import inv\n",
    "# define matrix\n",
    "A = array([[1.0, 2.0], [3.0, 4.0]])\n",
    "print(A)\n",
    "# invert matrix\n",
    "B = inv(A)\n",
    "print(B)\n",
    "# multiply A and B\n",
    "I = A.dot(B)\n",
    "print(I)"
   ]
  },
  {
   "cell_type": "markdown",
   "metadata": {},
   "source": [
    "Matrix inversion is used as an operation in solving systems of equations framed as matrix equations where we are interested in finding vectors of unknowns."
   ]
  },
  {
   "cell_type": "markdown",
   "metadata": {},
   "source": [
    "#### Trace of a square matrix\n",
    "\n",
    "A trace of a square matrix is the sum of the values on the main diagonal of the matrix (top-left to bottom-right).\n",
    "\n",
    "The operation of calculating a trace on a square matrix is described using the notation “tr(A)” where A is the square matrix on which the operation is being performed.\n",
    "\n",
    "The trace is calculated as the sum of the diagonal values; for example, in the case of a 3×3 matrix:"
   ]
  },
  {
   "cell_type": "raw",
   "metadata": {},
   "source": [
    "tr(A) = a11 + a22 + a33\n",
    "\n",
    "or\n",
    "\n",
    "tr(A) = A[0,0] + A[1,1] + A[2,2]"
   ]
  },
  {
   "cell_type": "markdown",
   "metadata": {},
   "source": [
    "We can calculate the trace of a matrix in NumPy using the trace() function."
   ]
  },
  {
   "cell_type": "code",
   "execution_count": 23,
   "metadata": {},
   "outputs": [
    {
     "name": "stdout",
     "output_type": "stream",
     "text": [
      "[[1 2 3]\n",
      " [4 5 6]\n",
      " [7 8 9]]\n",
      "15\n"
     ]
    }
   ],
   "source": [
    "# trace\n",
    "from numpy import array\n",
    "from numpy import trace\n",
    "A = array([[1, 2, 3], [4, 5, 6], [7, 8, 9]])\n",
    "print(A)\n",
    "B = trace(A)\n",
    "print(B)"
   ]
  },
  {
   "cell_type": "markdown",
   "metadata": {},
   "source": [
    "#### Determinant of a square matrix\n",
    "\n",
    "The determinant describes the relative geometry of the vectors that make up the rows of the matrix. More specifically, the determinant of a matrix A tells the volume of a box with sides given by rows of A.\n",
    "\n",
    "It is denoted by the “det(A)” notation or |A|, where A is the matrix on which we are calculating the determinant.\n",
    "\n",
    "The intuition for the determinant is that it describes the way a matrix will scale another matrix when they are multiplied together. For example, a determinant of 1 preserves the space of the other matrix. A determinant of 0 indicates that the matrix cannot be inverted.\n",
    "\n",
    "In NumPy, the determinant of a matrix can be calculated using the det() function."
   ]
  },
  {
   "cell_type": "code",
   "execution_count": 24,
   "metadata": {},
   "outputs": [
    {
     "name": "stdout",
     "output_type": "stream",
     "text": [
      "[[1 2 3]\n",
      " [4 5 6]\n",
      " [7 8 9]]\n",
      "-9.51619735392994e-16\n"
     ]
    }
   ],
   "source": [
    "# trace\n",
    "from numpy import array\n",
    "from numpy.linalg import det\n",
    "A = array([[1, 2, 3], [4, 5, 6], [7, 8, 9]])\n",
    "print(A)\n",
    "B = det(A)\n",
    "print(B)"
   ]
  },
  {
   "cell_type": "markdown",
   "metadata": {},
   "source": [
    "Matrix decompositions are a useful tool for reducing a matrix to their constituent parts in order to simplify a range of more complex operations.\n",
    "\n",
    "Perhaps the most used type of matrix decomposition is the eigendecomposition that decomposes a matrix into eigenvectors and eigenvalues. This decomposition also plays a role in methods used in machine learning, such as in the the Principal Component Analysis method or PCA."
   ]
  },
  {
   "cell_type": "markdown",
   "metadata": {},
   "source": [
    "#### Eigendecomposition of a Matrix\n",
    "\n",
    "Eigendecomposition of a matrix is a type of decomposition that involves decomposing a square matrix into a set of eigenvectors and eigenvalues.\n",
    "\n",
    "A vector is an eigenvector of a matrix if it satisfies the following equation."
   ]
  },
  {
   "cell_type": "raw",
   "metadata": {},
   "source": [
    "A . v = lambda . v"
   ]
  },
  {
   "cell_type": "markdown",
   "metadata": {},
   "source": [
    "This is called the eigenvalue equation, where A is the parent square matrix that we are decomposing, v is the eigenvector of the matrix, and lambda is the lowercase Greek letter and represents the eigenvalue scalar.\n",
    "\n",
    "A matrix could have one eigenvector and eigenvalue for each dimension of the parent matrix. Not all square matrices can be decomposed into eigenvectors and eigenvalues, and some can only be decomposed in a way that requires complex numbers. The parent matrix can be shown to be a product of the eigenvectors and eigenvalues."
   ]
  },
  {
   "cell_type": "raw",
   "metadata": {},
   "source": [
    "A = Q . diag(V) . Q^-1"
   ]
  },
  {
   "cell_type": "markdown",
   "metadata": {},
   "source": [
    "Where Q is a matrix comprised of the eigenvectors, diag(V) is a diagonal matrix comprised of the eigenvalues along the diagonal (sometimes represented with a capital lambda), and Q^-1 is the inverse of the matrix comprised of the eigenvectors.\n",
    "\n",
    "A decomposition operation does not result in a compression of the matrix; instead, it breaks it down into constituent parts to make certain operations on the matrix easier to perform. Like other matrix decomposition methods, Eigendecomposition is used as an element to simplify the calculation of other more complex matrix operations.\n",
    "\n",
    "Eigendecomposition can also be used to calculate the principal components of a matrix in the Principal Component Analysis method or PCA that can be used to reduce the dimensionality of data in machine learning."
   ]
  },
  {
   "cell_type": "markdown",
   "metadata": {},
   "source": [
    "#### Eigenvectors and Eigenvalues\n",
    "\n",
    "Eigenvectors are unit vectors, which means that their length or magnitude is equal to 1.0. They are often referred as right vectors, which simply means a column vector (as opposed to a row vector or a left vector). A right-vector is a vector as we understand them.\n",
    "\n",
    "Eigenvalues are coefficients applied to eigenvectors that give the vectors their length or magnitude. For example, a negative eigenvalue may reverse the direction of the eigenvector as part of scaling it.\n",
    "\n",
    "A matrix that has only positive eigenvalues is referred to as a positive definite matrix, whereas if the eigenvalues are all negative, it is referred to as a negative definite matrix."
   ]
  },
  {
   "cell_type": "markdown",
   "metadata": {},
   "source": [
    "The eigendecomposition can be calculated in NumPy using the eig() function.\n",
    "\n",
    "The example below first defines a 3×3 square matrix. The eigendecomposition is calculated on the matrix returning the eigenvalues and eigenvectors."
   ]
  },
  {
   "cell_type": "code",
   "execution_count": 25,
   "metadata": {},
   "outputs": [
    {
     "name": "stdout",
     "output_type": "stream",
     "text": [
      "[[1 2 3]\n",
      " [4 5 6]\n",
      " [7 8 9]]\n",
      "[ 1.61168440e+01 -1.11684397e+00 -9.75918483e-16]\n",
      "[[-0.23197069 -0.78583024  0.40824829]\n",
      " [-0.52532209 -0.08675134 -0.81649658]\n",
      " [-0.8186735   0.61232756  0.40824829]]\n"
     ]
    }
   ],
   "source": [
    "# eigendecomposition\n",
    "from numpy import array\n",
    "from numpy.linalg import eig\n",
    "# define matrix\n",
    "A = array([[1, 2, 3], [4, 5, 6], [7, 8, 9]])\n",
    "print(A)\n",
    "# calculate eigendecomposition\n",
    "values, vectors = eig(A)\n",
    "print(values)\n",
    "print(vectors)"
   ]
  },
  {
   "cell_type": "markdown",
   "metadata": {},
   "source": [
    "We can confirm that a vector is indeed an eigenvector of a matrix.\n",
    "\n",
    "We do this by multiplying the candidate eigenvector by the eigenvector and comparing the result with the eigenvalue.\n",
    "\n",
    "First, we will define a matrix, then calculate the eigenvalues and eigenvectors. We will then test whether the first vector and value are in fact an eigenvalue and eigenvector for the matrix.\n",
    "\n",
    "The eigenvectors are returned as a matrix with the same dimensions as the parent matrix, where each column is an eigenvector, e.g. the first eigenvector is vectors[:, 0]. Eigenvalues are returned as a list, where value indices in the returned array are paired with eigenvectors by column index, e.g. the first eigenvalue at values[0] is paired with the first eigenvector at vectors[:, 0]."
   ]
  },
  {
   "cell_type": "code",
   "execution_count": 26,
   "metadata": {},
   "outputs": [
    {
     "name": "stdout",
     "output_type": "stream",
     "text": [
      "[ -3.73863537  -8.46653421 -13.19443305]\n",
      "[ -3.73863537  -8.46653421 -13.19443305]\n"
     ]
    }
   ],
   "source": [
    "# confirm eigenvector\n",
    "from numpy import array\n",
    "from numpy.linalg import eig\n",
    "# define matrix\n",
    "A = array([[1, 2, 3], [4, 5, 6], [7, 8, 9]])\n",
    "# calculate eigendecomposition\n",
    "values, vectors = eig(A)\n",
    "# confirm first eigenvector\n",
    "B = A.dot(vectors[:, 0])\n",
    "print(B)\n",
    "C = vectors[:, 0] * values[0]\n",
    "print(C)"
   ]
  },
  {
   "cell_type": "markdown",
   "metadata": {},
   "source": [
    "The example multiplies the original matrix with the first eigenvector and compares it to the first eigenvector multiplied by the first eigenvalue.\n",
    "\n",
    "Running the example prints the results of these two multiplications that show the same resulting vector, as expected."
   ]
  },
  {
   "cell_type": "markdown",
   "metadata": {},
   "source": [
    "We can reverse the process and reconstruct the original matrix given only the eigenvectors and eigenvalues.\n",
    "\n",
    "First, the list of eigenvectors must be converted into a matrix, where each vector becomes a row. The eigenvalues need to be arranged into a diagonal matrix. The NumPy diag() function can be used for this.\n",
    "\n",
    "Next, we need to calculate the inverse of the eigenvector matrix, which we can achieve with the inv() NumPy function. Finally, these elements need to be multiplied together with the dot() function."
   ]
  },
  {
   "cell_type": "code",
   "execution_count": 27,
   "metadata": {},
   "outputs": [
    {
     "name": "stdout",
     "output_type": "stream",
     "text": [
      "[[1 2 3]\n",
      " [4 5 6]\n",
      " [7 8 9]]\n",
      "[[1. 2. 3.]\n",
      " [4. 5. 6.]\n",
      " [7. 8. 9.]]\n"
     ]
    }
   ],
   "source": [
    "# reconstruct matrix\n",
    "from numpy import diag\n",
    "from numpy import dot\n",
    "from numpy.linalg import inv\n",
    "from numpy import array\n",
    "from numpy.linalg import eig\n",
    "# define matrix\n",
    "A = array([[1, 2, 3], [4, 5, 6], [7, 8, 9]])\n",
    "print(A)\n",
    "# calculate eigenvectors and eigenvalues\n",
    "values, vectors = eig(A)\n",
    "# create matrix from eigenvectors\n",
    "Q = vectors\n",
    "# create inverse of eigenvectors matrix\n",
    "R = inv(Q)\n",
    "# create diagonal matrix from eigenvalues\n",
    "L = diag(values)\n",
    "# reconstruct the original matrix\n",
    "B = Q.dot(L).dot(R)\n",
    "print(B)"
   ]
  },
  {
   "cell_type": "markdown",
   "metadata": {},
   "source": [
    "#### Questionnaire"
   ]
  },
  {
   "cell_type": "markdown",
   "metadata": {},
   "source": [
    "##### Show effect of matrix-vector and matrix-matrix multiplication on image data.\n",
    "\n",
    "[Solution](https://github.com/ebi-byte/kt/blob/master/Linear%20Algebra/Linear%20Algebra%20Questionnaire.ipynb\n",
    ")"
   ]
  }
 ],
 "metadata": {
  "kernelspec": {
   "display_name": "Python 3",
   "language": "python",
   "name": "python3"
  },
  "language_info": {
   "codemirror_mode": {
    "name": "ipython",
    "version": 3
   },
   "file_extension": ".py",
   "mimetype": "text/x-python",
   "name": "python",
   "nbconvert_exporter": "python",
   "pygments_lexer": "ipython3",
   "version": "3.7.3"
  }
 },
 "nbformat": 4,
 "nbformat_minor": 2
}
