{
 "cells": [
  {
   "cell_type": "markdown",
   "metadata": {},
   "source": [
    "### 1.a. Model representation:\n",
    "Linear Regression is a supervised machine learning algorithm where the predicted output is continuous and has a constant slope. It’s used to predict values within a continuous range, (e.g. sales, price) rather than trying to classify them into categories (e.g. 0 or 1). There are two main types:\n",
    "Simple linear regression uses traditional slope intercept form where there is a dependant variable y and an independent variable x. The dependent variable is related to the independent variable as y= mx+b\n",
    "Example: Suppose one wants to prdict weight of human being based on its height so height will be the independent variable and weight will be dependent variable.\n",
    "Weight can be explained as terms of height as\n",
    "Weight= Coeff*Height+Bias\n"
   ]
  },
  {
   "cell_type": "markdown",
   "metadata": {},
   "source": [
    "### Dataset :"
   ]
  },
  {
   "cell_type": "code",
   "execution_count": null,
   "metadata": {
    "collapsed": true
   },
   "outputs": [],
   "source": [
    "import pandas as pd  \n",
    "import numpy as np\n",
    "# initialize list of lists of height and weight\n",
    "data = [[48, 60],[52, 67],[70, 90],[61,79],[63,87],[65,81],[50,84],[51,63]]\n",
    "# create a dataframe\n",
    "df = pd.DataFrame(data, columns = ['Height_cm', 'Weight_Kg']) \n",
    "df \n",
    "df['Height_cm']"
   ]
  },
  {
   "cell_type": "markdown",
   "metadata": {},
   "source": [
    "### Model Building :"
   ]
  },
  {
   "cell_type": "code",
   "execution_count": 38,
   "metadata": {},
   "outputs": [
    {
     "name": "stdout",
     "output_type": "stream",
     "text": [
      "[ 1.07489451] 14.5685654008\n"
     ]
    }
   ],
   "source": [
    "from sklearn.linear_model import LinearRegression \n",
    "lr = LinearRegression() #Build Linear Regression Model\n",
    "X=pd.DataFrame(df['Height_cm'])#Segregate independent Variable\n",
    "Y=pd.DataFrame(df['Weight_Kg'])# Segregate Dependent Variable\n",
    "lr.fit(X,Y)\n",
    "\n",
    "\n",
    "Coeff=lr.coef_[0]\n",
    "Bias=lr.intercept_[0]\n",
    "print(Coeff,Bias)"
   ]
  },
  {
   "cell_type": "code",
   "execution_count": 14,
   "metadata": {
    "collapsed": true
   },
   "outputs": [],
   "source": [
    "def predict_weight(height, coeff, bias):\n",
    "    return coeff*height + bias"
   ]
  },
  {
   "cell_type": "markdown",
   "metadata": {},
   "source": [
    "### Make Predictions :"
   ]
  },
  {
   "cell_type": "code",
   "execution_count": 15,
   "metadata": {},
   "outputs": [
    {
     "data": {
      "text/plain": [
       "0    66.163502\n",
       "1    70.463080\n",
       "2    89.811181\n",
       "3    80.137131\n",
       "4    82.286920\n",
       "5    84.436709\n",
       "6    68.313291\n",
       "7    69.388186\n",
       "Name: Height_cm, dtype: float64"
      ]
     },
     "execution_count": 15,
     "metadata": {},
     "output_type": "execute_result"
    }
   ],
   "source": [
    "predict_weight(df['Height_cm'],Coeff,Bias)#Predict Weight based on Linear regression Model"
   ]
  },
  {
   "cell_type": "markdown",
   "metadata": {},
   "source": [
    "### 1.b. Cost Function :"
   ]
  },
  {
   "attachments": {
    "pic.png": {
     "image/png": "[encoded data removed]"
    }
   },
   "cell_type": "markdown",
   "metadata": {},
   "source": [
    "In linear regression model, our primary goal is to minimize the error in prediction values.We need to optimize our coeeficients of independent variable so that the error is reduced. This can be done by minimizing the error function through different iterations. For linear regression we normally use MSE- Mean squared error as the cost function.\n",
    "Given simple linear equation y=mx+b\n",
    "We can calculate MSE as\n",
    "\n",
    "![pic.png](attachment:pic.png)\n",
    "\n",
    "### Where ŷi=mxi+b"
   ]
  },
  {
   "cell_type": "markdown",
   "metadata": {},
   "source": [
    "### Cost Function Code :"
   ]
  },
  {
   "cell_type": "code",
   "execution_count": 27,
   "metadata": {},
   "outputs": [
    {
     "data": {
      "text/plain": [
       "array([ 46.52703059])"
      ]
     },
     "execution_count": 27,
     "metadata": {},
     "output_type": "execute_result"
    }
   ],
   "source": [
    "def cost_function(height, weight, coeff, bias):\n",
    "    observations = len(height)\n",
    "    total_error = 0.0\n",
    "    for i1 in range(observations):\n",
    "        total_error += (weight[i1] - (coeff*height[i1] + bias))**2# Calculate error based on MSE formula\n",
    "    return total_error / observations\n",
    "cost_function(df['Height_cm'],df['Weight_Kg'],Coeff,Bias)"
   ]
  },
  {
   "cell_type": "markdown",
   "metadata": {},
   "source": [
    "### 1.c. Gradient Decent :"
   ]
  },
  {
   "cell_type": "markdown",
   "metadata": {},
   "source": [
    "\n",
    "To minimize MSE we use Gradient Descent to calculate the gradient of our cost function. \n",
    "Math\n",
    "There are two parameters (coefficients) in our cost function we can control: Coefficient (m) of the independentg variable and \n",
    "and bias (b).Since we need to consider the impact each one has on the final prediction, we use partial derivatives. To find the partial derivatives, we use the Chain rule. We need the chain rule because (y−(mx+b))2\n",
    "is really 2 nested functions: the inner function y−(mx+b) and the outer function x2\n",
    "\n",
    "Partial derivatives can be calculated as \n",
    "df/dm=1/N ∑ -2xi(yi-(mxi+b))\n",
    "df/db=1/N ∑ -2(yi-(mxi+b)\n",
    "Given the learning rate of l we find the change in coefficient m as df/dm*l\n",
    "Given the learning rate of l we find the change in bias b as df/db*l\n",
    "\n",
    "We subtract these values from original values because the derivatives point in direction of steepest ascent\n",
    "\n",
    "\n"
   ]
  },
  {
   "cell_type": "markdown",
   "metadata": {},
   "source": [
    "### 1.d. Gradient Decent for Linear Regression :"
   ]
  },
  {
   "cell_type": "markdown",
   "metadata": {},
   "source": [
    "\n",
    "To solve for the gradient, we iterate through our data points using our new coefficient and bias values and take the average of the partial derivatives. The resulting gradient tells us the slope of our cost function at our current position (i.e. coefficient and bias) and the direction we should update to reduce our cost function (we move in the direction opposite the gradient). The size of our update is controlled by the learning rate.\n",
    "\n",
    "\n"
   ]
  },
  {
   "cell_type": "markdown",
   "metadata": {},
   "source": [
    " ### Gradient Decent Code for Linear Regression :"
   ]
  },
  {
   "cell_type": "code",
   "execution_count": 39,
   "metadata": {},
   "outputs": [
    {
     "name": "stdout",
     "output_type": "stream",
     "text": [
      "0 0.0445525 0.00076375 5557.70746557\n",
      "10 0.415381415204 0.00712505109337 2826.81011361\n",
      "20 0.678681663861 0.0116492014478 1450.04087508\n",
      "30 0.865633124393 0.0148689160789 755.94904347\n",
      "40 0.998374506486 0.0171624396647 406.025859783\n",
      "50 1.09262500121 0.0187983380092 229.613703434\n",
      "60 1.15954573635 0.0199673014122 140.676326642\n",
      "70 1.20706146918 0.0208047260781 95.8389541891\n",
      "80 1.2407990305 0.0214067476369 73.2343943553\n",
      "90 1.26475364991 0.0218416254569 61.8384038707\n",
      "100 1.28176206806 0.0221578258701 56.0931616298\n",
      "110 1.29383846144 0.0223897615204 53.1967179035\n",
      "120 1.30241295967 0.0225618664843 51.7364827334\n",
      "130 1.3085010005 0.0226914897365 51.0003054448\n",
      "140 1.31282357713 0.0227909496033 50.6291585785\n"
     ]
    },
    {
     "data": {
      "text/plain": [
       "(1.3156308186160144,\n",
       " 0.022861958830127246,\n",
       " [5557.7074655724891,\n",
       "  5193.1341380779122,\n",
       "  4852.6942259269154,\n",
       "  4534.7901856506869,\n",
       "  4237.930225291283,\n",
       "  3960.7213040399465,\n",
       "  3701.8625952736975,\n",
       "  3460.1393823148765,\n",
       "  3234.4173582689859,\n",
       "  3023.637303192349,\n",
       "  2826.8101136117043,\n",
       "  2643.0121610713654,\n",
       "  2471.3809579274994,\n",
       "  2311.1111100509197,\n",
       "  2161.4505374460832,\n",
       "  2021.6969450512313,\n",
       "  1891.1945271586044,\n",
       "  1769.3308899899316,\n",
       "  1655.5341779861244,\n",
       "  1549.270390326039,\n",
       "  1450.040875081839,\n",
       "  1357.379989252076,\n",
       "  1270.8529136919803,\n",
       "  1190.053612687348,\n",
       "  1114.6029285971404,\n",
       "  1044.1468026237469,\n",
       "  978.35461336172125,\n",
       "  916.91762532849384,\n",
       "  859.54754019664722,\n",
       "  805.97514392930043,\n",
       "  755.94904347015904,\n",
       "  709.23448706004604,\n",
       "  665.61226264414586,\n",
       "  624.87766920064144,\n",
       "  586.83955616362368,\n",
       "  551.31942643266814,\n",
       "  518.15059875989118,\n",
       "  487.17742558390324,\n",
       "  458.25456264028219,\n",
       "  431.24628692115198,\n",
       "  406.02585978333263,\n",
       "  382.47493221639115,\n",
       "  360.48298947976281,\n",
       "  339.94683250285703,\n",
       "  320.77009361457004,\n",
       "  302.86278432972819,\n",
       "  286.14087307040404,\n",
       "  270.52589084053358,\n",
       "  255.94456300342543,\n",
       "  242.32846543424415,\n",
       "  229.61370343394026,\n",
       "  217.74061189789546,\n",
       "  206.65347533230556,\n",
       "  196.30026640444675,\n",
       "  186.63240179995876,\n",
       "  177.60451424147536,\n",
       "  169.17423959878619,\n",
       "  161.30201809152442,\n",
       "  153.95090865150468,\n",
       "  147.08641557359408,\n",
       "  140.67632664165882,\n",
       "  134.69056196997741,\n",
       "  129.1010328507987,\n",
       "  123.88150994567208,\n",
       "  119.00750020202891,\n",
       "  114.45613191743287,\n",
       "  110.20604741215512,\n",
       "  106.23730280643167,\n",
       "  102.5312744320974,\n",
       "  99.070571439426899,\n",
       "  95.838954189080766,\n",
       "  92.821258046205713,\n",
       "  90.003322219085518,\n",
       "  87.371923308412136,\n",
       "  84.914713255349966,\n",
       "  82.620161397211987,\n",
       "  80.477500358836053,\n",
       "  78.476675525753805,\n",
       "  76.608297862050634,\n",
       "  74.86359985150925,\n",
       "  73.234394355288273,\n",
       "  71.713036193071602,\n",
       "  70.292386267403941,\n",
       "  68.965778062864146,\n",
       "  67.726986362869923,\n",
       "  66.570198037315436,\n",
       "  65.489984763960038,\n",
       "  64.481277555560297,\n",
       "  63.539342973213309,\n",
       "  62.659760914288555,\n",
       "  61.838403870717237,\n",
       "  61.07141756030714,\n",
       "  60.355202840192597,\n",
       "  59.686398817548387,\n",
       "  59.06186707831187,\n",
       "  58.478676959905862,\n",
       "  57.934091798853373,\n",
       "  57.425556088749488,\n",
       "  56.950683488328401,\n",
       "  56.507245623352823,\n",
       "  56.09316162977639,\n",
       "  55.706488389110852,\n",
       "  55.345411410176155,\n",
       "  55.008236314444744,\n",
       "  54.693380885025306,\n",
       "  54.39936764197418,\n",
       "  54.124816909094157,\n",
       "  53.868440339685407,\n",
       "  53.629034870868658,\n",
       "  53.405477078109023,\n",
       "  53.196717903450043,\n",
       "  53.001777732719511,\n",
       "  52.819741798606081,\n",
       "  52.649755888034896,\n",
       "  52.491022333699611,\n",
       "  52.342796270940347,\n",
       "  52.204382142402245,\n",
       "  52.075130434073003,\n",
       "  51.954434627382668,\n",
       "  51.841728353063225,\n",
       "  51.736482733412245,\n",
       "  51.638203900489209,\n",
       "  51.546430678597162,\n",
       "  51.460732420177138,\n",
       "  51.38070698495671,\n",
       "  51.305978852872968,\n",
       "  51.236197361911792,\n",
       "  51.171035062597049,\n",
       "  51.110186181404941,\n",
       "  51.053365185896418,\n",
       "  51.000305444831113,\n",
       "  50.950757976977684,\n",
       "  50.904490282747837,\n",
       "  50.861285253172305,\n",
       "  50.820940151098377,\n",
       "  50.783265659828047,\n",
       "  50.748084994733681,\n",
       "  50.715233073680729,\n",
       "  50.684555742365745,\n",
       "  50.655909050933943,\n",
       "  50.629158578482425,\n",
       "  50.604178802278248,\n",
       "  50.580852508732583,\n",
       "  50.559070243365724,\n",
       "  50.538729797182441,\n",
       "  50.519735727047788,\n",
       "  50.501998907811725,\n",
       "  50.485436114081899,\n",
       "  50.469969629681323,\n",
       "  50.455526882958374])"
      ]
     },
     "execution_count": 39,
     "metadata": {},
     "output_type": "execute_result"
    }
   ],
   "source": [
    "def update_coeff(height, weight, coeff, bias, learning_rate):\n",
    "    coeff_deriv = 0\n",
    "    bias_deriv = 0\n",
    "    observations = len(height)\n",
    "\n",
    "    for i in range(observations):\n",
    "        # Calculate partial derivatives\n",
    "        # -2x(y - (mx + b))\n",
    "        coeff_deriv += -2*height[i] * (weight[i] - (coeff*height[i] + bias))\n",
    "\n",
    "        # -2(y - (mx + b))\n",
    "        bias_deriv += -2*(weight[i] - (coeff*height[i] + bias))\n",
    "\n",
    "    # We subtract because the derivatives point in direction of steepest ascent\n",
    "    coeff -= (coeff_deriv / observations) * learning_rate\n",
    "    bias -= (bias_deriv / observations) * learning_rate\n",
    "\n",
    "    return coeff, bias\n",
    "def train(height, weight, coeff, bias, learning_rate, iters):\n",
    "    cost_history = []\n",
    "\n",
    "    for i in range(iters):\n",
    "        coeff,bias = update_coeff(height, weight, coeff, bias, learning_rate)\n",
    "\n",
    "        #Calculate cost for auditing purposes\n",
    "        cost = cost_function(height, weight, coeff, bias)\n",
    "        cost_history.append(cost)\n",
    "\n",
    "        # Log Progress\n",
    "        if i % 10 == 0:\n",
    "            print(i, coeff, bias, cost)\n",
    "\n",
    "    return coeff, bias, cost_history\n",
    "train(df['Height_cm'],df['Weight_Kg'],0,0,0.000005,150)"
   ]
  },
  {
   "cell_type": "markdown",
   "metadata": {},
   "source": [
    "As we can see, as the iterations increase the cost function value decreases . When i=140, it reduces to 50.62. So, this is how gradient descent helps us reducing the error iteration wise. "
   ]
  }
 ],
 "metadata": {
  "kernelspec": {
   "display_name": "Python 3",
   "language": "python",
   "name": "python3"
  },
  "language_info": {
   "codemirror_mode": {
    "name": "ipython",
    "version": 3
   },
   "file_extension": ".py",
   "mimetype": "text/x-python",
   "name": "python",
   "nbconvert_exporter": "python",
   "pygments_lexer": "ipython3",
   "version": "3.6.1"
  }
 },
 "nbformat": 4,
 "nbformat_minor": 2
}
