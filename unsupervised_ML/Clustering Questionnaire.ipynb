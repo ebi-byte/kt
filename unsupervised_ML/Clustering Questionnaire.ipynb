{
 "cells": [
  {
   "cell_type": "markdown",
   "metadata": {},
   "source": [
    "#### Questionnaire"
   ]
  },
  {
   "cell_type": "markdown",
   "metadata": {},
   "source": [
    "##### What is Space and Time Complexity of Hierarchical clustering Technique?\n",
    "\n",
    "Space complexity: The space required for the Hierarchical clustering Technique is very high when the number of data points are high as we need to store the similarity matrix in the RAM. The space complexity is the order of the square of n.\n",
    "\n",
    "Space complexity = O(n²) where n is the number of data points.\n",
    "\n",
    "Time complexity: Since we’ve to perform n iterations and in each iteration, we need to update the similarity matrix and restore the matrix, the time complexity is also very high. The time complexity is the order of cube of n.\n",
    "\n",
    "Time complexity = O(n³) where n is the number of data points."
   ]
  },
  {
   "cell_type": "markdown",
   "metadata": {},
   "source": [
    "#### Why Clustering?\n",
    "\n",
    "Clustering is an important technique as it performs the determination of the intrinsic grouping among the unlabeled dataset. In clustering, there are no standard criteria. All of it depends on the user and the suitable criteria that satisfy their needs and requirements. For example, to find the homogeneous groups, one can find the representatives through data reduction and describe their suitable properties. One can also find unusual data objects for outlier detection."
   ]
  },
  {
   "cell_type": "markdown",
   "metadata": {},
   "source": [
    "##### What are some popular applications of clustering in machine learning?\n",
    "\n",
    "Some of the popular applications of clustering in machine learning are –\n",
    "\n",
    "1. Clustering Algorithm for identification of cancer cells\n",
    "\n",
    "Cancerous Datasets can be identified using clustering algorithms. In a mix of data consisting of both cancerous and non-cancerous data, the clustering algorithms are able to learn the various features present in the data upon which they produce the resulting clusters. Through experimentation, we observe that the cancerous data set gives us accurate results when given a model of unsupervised non-linear clustering algorithm.\n",
    "\n",
    "2. Clustering Algorithm in Search Engines\n",
    "\n",
    "While searching for something particular on Google, we receive a mix of similar results that match to our original query. This is a result of clustering that groups similar objects in a single cluster and provides that to us. Based on the nearest similar object, the data is assigned to the single cluster providing a comprehensive set of results to the user.\n",
    "\n",
    "3. Clustering Algorithm in Wireless Networks\n",
    "\n",
    "Using the clustering algorithm on the wireless nodes, we are able to save energy utilized by the wireless sensors. There are various clustering-based algorithms in wireless networks to improve their energy consumption and optimize data transmission.\n",
    "\n",
    "4. Clustering for Customer Segmentation\n",
    "\n",
    "One of the most popular applications of clustering is in the field of customer segmentation. Based on the analysis of the user-base, companies are able to identify customers who would prove to be potential users for their product or services. Clustering allows them to segment customers into several clusters based on which they can adopt new strategies to appeal to their customer base."
   ]
  }
 ],
 "metadata": {
  "kernelspec": {
   "display_name": "Python 3",
   "language": "python",
   "name": "python3"
  },
  "language_info": {
   "codemirror_mode": {
    "name": "ipython",
    "version": 3
   },
   "file_extension": ".py",
   "mimetype": "text/x-python",
   "name": "python",
   "nbconvert_exporter": "python",
   "pygments_lexer": "ipython3",
   "version": "3.7.3"
  }
 },
 "nbformat": 4,
 "nbformat_minor": 2
}
