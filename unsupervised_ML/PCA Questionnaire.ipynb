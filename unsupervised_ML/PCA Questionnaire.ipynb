{
 "cells": [
  {
   "cell_type": "markdown",
   "metadata": {},
   "source": [
    "#### Questionnaire"
   ]
  },
  {
   "cell_type": "markdown",
   "metadata": {},
   "source": [
    "##### Why is normalization of variables necessary in PCA?\n",
    "\n",
    "The principal components are supplied with normalized version of original predictors because, the original predictors may have different scales. For example: Imagine a data set with variables’ measuring units as gallons, kilometers, light years etc. It is definite that the scale of variances in these variables will be large.\n",
    "\n",
    "Performing PCA on un-normalized variables will lead to insanely large loadings for variables with high variance. In turn, this will lead to dependence of a principal component on the variable with high variance. This is undesirable."
   ]
  },
  {
   "cell_type": "markdown",
   "metadata": {},
   "source": [
    "##### Why are Principal Components orthogonal?\n",
    "\n",
    "The first principal component has the largest possible variance, that is, accounts for as much of the variability in the data as possible. Now as the second Principal Component should capture the highest variance from what is left after the first Principal Component explains the data so, the second Principal Component should be orthogonal to the first Principal Component, similarly the third Principal Component should be orthognal to the first and second Principal Components and so on."
   ]
  }
 ],
 "metadata": {
  "kernelspec": {
   "display_name": "Python 3",
   "language": "python",
   "name": "python3"
  },
  "language_info": {
   "codemirror_mode": {
    "name": "ipython",
    "version": 3
   },
   "file_extension": ".py",
   "mimetype": "text/x-python",
   "name": "python",
   "nbconvert_exporter": "python",
   "pygments_lexer": "ipython3",
   "version": "3.7.3"
  }
 },
 "nbformat": 4,
 "nbformat_minor": 2
}
