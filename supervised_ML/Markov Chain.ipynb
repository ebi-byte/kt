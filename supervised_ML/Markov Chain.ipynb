{
 "cells": [
  {
   "cell_type": "markdown",
   "metadata": {},
   "source": [
    "## Markov Chain"
   ]
  },
  {
   "cell_type": "markdown",
   "metadata": {},
   "source": [
    "### Markov Property"
   ]
  },
  {
   "cell_type": "markdown",
   "metadata": {},
   "source": [
    "The Markov property refers to the memoryless property of a stochastic process.\n",
    "\n",
    "**A stochastic process has the Markov property if the conditional probability distribution of future states of the process depends only upon the present state, not on the sequence of events that preceded it.** "
   ]
  },
  {
   "cell_type": "markdown",
   "metadata": {},
   "source": [
    "In probability theory and related fields, a Markov process is a stochastic process that satisfies the Markov property (sometimes characterized as \"memorylessness\"). Roughly speaking, a process satisfies the Markov property if one can make predictions for the future of the process based solely on its present state just as well as one could knowing the process's full history, hence independently from such history, that is, conditional on the present state of the system, its future and past states are independent. "
   ]
  },
  {
   "cell_type": "markdown",
   "metadata": {},
   "source": [
    "### What is a Markov Chain"
   ]
  },
  {
   "cell_type": "markdown",
   "metadata": {},
   "source": [
    "A Markov chain is a type of Markov process that has either a discrete state space or a discrete index set (often representing time), but the precise definition of a Markov chain varies. For example, it is common to define a Markov chain as a Markov process in either discrete or continuous time with a countable state space (thus regardless of the nature of time), but it is also common to define a Markov chain as having discrete time in either countable or continuous state space (thus regardless of the state space)."
   ]
  },
  {
   "cell_type": "markdown",
   "metadata": {},
   "source": [
    "A state space is the set of all possible configurations of a system. For example, a system in queueing theory defining the number of customers in a line would have state space {0, 1, 2, 3, ...}. The changes of state of the system are called transitions. The probabilities associated with various state changes are called transition probabilities. The process is characterized by a state space, a transition matrix describing the probabilities of particular transitions, and an initial state (or initial distribution) across the state space. By convention, we assume all possible states and transitions have been included in the definition of the process, so there is always a next state, and the process does not terminate. \n",
    "A discrete-time random process involves a system which is in a certain state at each step, with the state changing randomly between steps. The steps are often thought of as moments in time, but they can equally well refer to physical distance or any other discrete measurement. Formally, the steps are the integers or natural numbers, and the random process is a mapping of these to states."
   ]
  },
  {
   "cell_type": "markdown",
   "metadata": {},
   "source": [
    "<img src=\"https://upload.wikimedia.org/wikipedia/commons/2/2b/Markovkate_01.svg\" style=\"height: 300px;\" />  \n",
    "A diagram representing a two-state Markov process, with the states labelled E and A. Each number represents the probability of the Markov process changing from one state to another state, with the direction indicated by the arrow. For example, if the Markov process is in state A, then the probability it changes to state E is 0.4, while the probability it remains in state A is 0.6."
   ]
  },
  {
   "cell_type": "markdown",
   "metadata": {},
   "source": [
    "#### Examples\n",
    "##### Drunkard's Walk\n",
    "A famous Markov chain is the so-called \"drunkard's walk\", a random walk on the number line where, at each step, the position may change by +1 or −1 with equal probability. From any position there are two possible transitions, to the next or previous integer. The transition probabilities depend only on the current position, not on the manner in which the position was reached. For example, the transition probabilities from 5 to 4 and 5 to 6 are both 0.5, and all other transition probabilities from 5 are 0. These probabilities are independent of whether the system was previously in 4 or 6.\n",
    "\n",
    "##### Dietary Habit\n",
    "Another example is the dietary habits of a creature who eats only grapes, cheese, or lettuce, and whose dietary habits conform to the following rules:   \n",
    "It eats exactly once a day.  \n",
    "If it ate cheese today, tomorrow it will eat lettuce or grapes with equal probability.  \n",
    "If it ate grapes today, tomorrow it will eat grapes with probability 1/10, cheese with probability 4/10, and lettuce with probability 5/10.   \n",
    "If it ate lettuce today, tomorrow it will eat grapes with probability 4/10 or cheese with probability 6/10. It will not eat lettuce again tomorrow.  \n",
    "\n",
    "This creature's eating habits can be modeled with a Markov chain since its choice tomorrow depends solely on what it ate today, not what it ate yesterday or any other time in the past. One statistical property that could be calculated is the expected percentage, over a long period, of the days on which the creature will eat grapes. "
   ]
  },
  {
   "cell_type": "markdown",
   "metadata": {},
   "source": [
    "#### Gambling Problem"
   ]
  },
  {
   "cell_type": "markdown",
   "metadata": {},
   "source": [
    "Suppose that you start with 10 dollars, and you wager 1 dollar on an unending, fair, coin toss indefinitely, or until you lose all of your money. If <math>X_n</math> represents the number of dollars you have after ''n'' tosses, with <math>X_0 = 10</math>, then the sequence {X_n : n *E* N} is a Markov process. If I know that you have 12 dollars now, then it would be expected that with even odds, you will either have 11 or 13 dollars after the next toss. This guess is not improved by the added knowledge that you started with 10 dollars, then went up to 11, down to 10, up to 11, and then to 12 dollars.\n",
    "\n",
    "The process described here is a Markov chain on a countable state space."
   ]
  },
  {
   "cell_type": "markdown",
   "metadata": {},
   "source": [
    "#### A Birth Death Process"
   ]
  },
  {
   "cell_type": "markdown",
   "metadata": {},
   "source": [
    "If one pops one hundred kernels of popcorn in an oven, each kernel popping at an independent exponentially-distributed time, then this would be a continuous-time Markov process. If X_t denotes the number of kernels which have popped up to time t, the problem can be defined as finding the number of kernels that will pop in some later time. The only thing one needs to know is the number of kernels that have popped prior to the time \"t\". It is not necessary to know when they popped, so knowing \n",
    "X_t for previous times \"t\" is not relevant.\n",
    "\n",
    "The process described here is an approximation of a Poisson point process – Poisson processes are also Markov processes. "
   ]
  },
  {
   "cell_type": "markdown",
   "metadata": {},
   "source": [
    "### Discrete Time Markov Chain"
   ]
  },
  {
   "cell_type": "markdown",
   "metadata": {},
   "source": [
    "A discrete-time Markov chain is a sequence of random variables ''X''<sub>1</sub>, ''X''<sub>2</sub>, ''X''<sub>3</sub>, ... with the Markov property, namely that the probability of moving to the next state depends only on the present state and not on the previous states:\n",
    "\n",
    "***P(Xn+1 = x | X1 = x1, X2 = x2, ..., Xn = xn) = P(Xn+1 = x | Xn = xn)***\n",
    "\n",
    "The possible values of ''X''<sub>''i''</sub> form a countable set ''S'' called the state space of the chain.\n",
    "\n",
    "Markov chains are often described by a sequence of directed graphs, where the edges of graph ''n'' are labeled by the probabilities of going from one state at time ''n'' to the other states at time ''n''&nbsp;+&nbsp;1, P(X_n+1 =x |X_n=x_n). The same information is represented by the transition matrix from time ''n'' to time ''n''&nbsp;+&nbsp;1. However, Markov chains are frequently assumed to be time-homogeneous (see variations below), in which case the graph and matrix are independent of ''n'' and are thus not presented as sequences.\n",
    "\n",
    "These descriptions highlight the structure of the Markov chain that is independent of the initial distribution Pr(X_1=x_1). When time-homogeneous, the chain can be interpreted as a state machine assigning a probability of hopping from each vertex or state to an adjacent one. The probability Pr(X_n=x | X_1=x_1) of the machine's state can be analyzed as the statistical behavior of the machine with an element <math>x_1</math> of the state space as input, or as the behavior of the machine with the initial distribution P(X_1 = y)=(x_1 =y) of states as input.\n",
    "\n",
    "The fact that some sequences of states might have zero probability of occurring corresponds to a graph with multiple connected components, where we omit edges that would carry a zero transition probability. For example, if ''a'' has a nonzero probability of going to ''b'', but ''a'' and ''x'' lie in different connected components of the graph, then P(X_n+1 = b | X_n = a) is defined, while Pr(X_n+1 = b | X_1 = x, ... , X_n = a) is not.\n",
    "\n",
    "#### Variations\n",
    "1. Time-homogeneous Markov chains (or stationary Markov chains) are processes where  \n",
    "Pr(X_n+1 = x ∣ X_n = y) = Pr(X_n = x ∣ X_n−1 = y)  \n",
    "\n",
    "for all n. The probability of the transition is independent of n.\n",
    "2. A Markov chain with memory (or a Markov chain of order m)\n",
    "where m is finite, is a process satisfying  \n",
    "Pr(X_n = x_n ∣ X_n−1 = x_n−1, X_n−2 = x_n−2, … , X_1 = x_1) = Pr(X_n = x_n ∣ X_n−1 = x_n−1, X_n−2 = x_n−2, … , X_n−m = x_n−m)  for  n > m    \n",
    "\n",
    "In other words, the future state depends on the past m states. It is possible to construct a chain (Y_n) from (X_n) which has the 'classical' Markov property by taking as state space the ordered m-tuples of X values, ie. Y_n = (X_n , X_n−1, … , X_n−m + 1) \n"
   ]
  },
  {
   "cell_type": "markdown",
   "metadata": {},
   "source": [
    "#### Transition Matrix"
   ]
  },
  {
   "cell_type": "markdown",
   "metadata": {},
   "source": [
    "A transition matrix Pt for Markov chain {X} at time t is a matrix containing information on the probability of transitioning between states. In particular, given an ordering of a matrix's rows and columns by the state space S, the (i, j)th element of the matrix is given by\n",
    "\n",
    "$$Pt(ij) = P(Xt+1 = j | Xt = i)$$\n",
    "\n",
    "This means each row of the matrix is a probability vector, and the sum of its entries is 1.\n",
    "\n",
    "Transition matrices have the property that the product of subsequent ones describes a transition along the time interval spanned by the transition matrices. That is to say, Po.P1 has in its (ij)th position the probability that X2 = j given that X0 = i. And in general, the (ij)th poistion of Pt.P(t+1)...P(t+k) is the probability P(X(t+k+1) = j | Xt = i)."
   ]
  },
  {
   "cell_type": "markdown",
   "metadata": {},
   "source": [
    "### Building A Markov Chain"
   ]
  },
  {
   "cell_type": "markdown",
   "metadata": {},
   "source": [
    "![alt text](https://upload.wikimedia.org/wikipedia/commons/9/95/Finance_Markov_chain_example_state_space.svg)"
   ]
  },
  {
   "cell_type": "markdown",
   "metadata": {},
   "source": [
    "A state diagram for a simple example is shown in the figure on the right, using a directed graph to picture the state transitions. The states represent whether a hypothetical stock market is exhibiting a bull market, bear market, or stagnant market trend during a given week. According to the figure, a bull week is followed by another bull week 90% of the time, a bear week 7.5% of the time, and a stagnant week the other 2.5% of the time. Labelling the state space {1 = bull, 2 = bear, 3 = stagnant} the transition matrix for this example is \n",
    "\n",
    "<math>P = \\begin{bmatrix}\n",
    "0.9 & 0.075 & 0.025 \\\\\n",
    "0.15 & 0.8 & 0.05 \\\\\n",
    "0.25 & 0.25 & 0.5\n",
    "\\end{bmatrix}.</math>\n",
    "\n",
    "The distribution over states can be written as a stochastic row vector X with the relation Xn+1 = Xn.P. So if at time n, the system is in state Xn, then three time periods later, at time n+3, the distribution is:\n",
    "\n",
    "<math>\\begin{align}\n",
    "X^{(n+3)} &= X^{(n+2)} P = \\left( X^{(n+1)} P \\right) P \\\\\n",
    "&= X^{(n+1)} P^2= \\left( X^{(n)} P \\right) P^2\\\\\n",
    "&= X^{(n)} P^3 \\\\\n",
    "\\end{align}</math>\n",
    "\n",
    "In particular, if at time n the system is in state 2 (bear), then at time n + 3 the distribution is\n",
    "\n",
    "<math>\\begin{align}\n",
    "x^{(n+3)} &= \\begin{bmatrix} 0 & 1 & 0 \\end{bmatrix}\n",
    "\\begin{bmatrix}\n",
    "0.9 & 0.075 & 0.025 \\\\\n",
    "0.15 & 0.8 & 0.05 \\\\\n",
    "0.25 & 0.25 & 0.5\n",
    "\\end{bmatrix}^3 \\\\[5pt]\n",
    "&= \\begin{bmatrix} 0 & 1 & 0 \\end{bmatrix} \\begin{bmatrix}\n",
    "0.7745 & 0.17875 & 0.04675 \\\\\n",
    "0.3575 & 0.56825 & 0.07425 \\\\\n",
    "0.4675 & 0.37125 & 0.16125 \\\\\n",
    "\\end{bmatrix} \\\\[5pt]\n",
    "& = \\begin{bmatrix} 0.3575 & 0.56825 & 0.07425 \\end{bmatrix}.\n",
    "\\end{align}</math>"
   ]
  },
  {
   "cell_type": "markdown",
   "metadata": {},
   "source": [
    "Using the transition matrix it is possible to calculate, for example, the long-term fraction of weeks during which the market is stagnant, or the average number of weeks it will take to go from a stagnant to a bull market. Using the transition probabilities, the steady-state probabilities indicate that 62.5% of weeks will be in a bull market, 31.25% of weeks will be in a bear market and 6.25% of weeks will be stagnant, since:"
   ]
  },
  {
   "cell_type": "markdown",
   "metadata": {},
   "source": [
    "<math> lim N-inf PN=\n",
    "\\begin{bmatrix}\n",
    "0.625 & 0.3125 & 0.0625 \\\\\n",
    "0.625 & 0.3125 & 0.0625 \\\\\n",
    "0.625 & 0.3125 & 0.0625\n",
    "\\end{bmatrix}</math>\n",
    "\n"
   ]
  },
  {
   "cell_type": "markdown",
   "metadata": {},
   "source": [
    "### Probability of States with progressing steps\n",
    "\n",
    "Consider a set of families. Every family falls into one of the following six states. \n",
    "\n",
    "The states are \\(S_1 = \\{AA, AA\\}\\), \\(S_2 = \\{AA, Aa\\}\\), \\(S_3 = \\{AA, aa\\}\\), \\(S_4=\\{Aa,Aa\\}\\), \\(S_5 = \\{Aa, aa\\}\\) and \\(S_6 = \\{aa, aa\\}\\).\n",
    "\n",
    "The idea is that each pair of parents give birth to two children.For example, the parents \\(S_2 = \\{AA, Aa\\}\\) can give birth to {{AA, AA}, {AA, Aa}, {Aa, Aa}}. Such kind of rules results in the following state transition matrix.\n",
    "\n",
    "$$\\begin{pmatrix}1 & 0 & 0 & 0 & 0 & 0 \\\\ 1/4 & 1/2 & 0 & 1/4 & 0 & 0\\\\ 0 & 0 & 0 & 1 & 0 & 0\\\\ 1/16 & 1/4 & 1/8 & 1/4 & 1/4 & 1/16\\\\ 0 & 0 & 0 & 1/4 & 1/2 & 1/4\\\\ 0 & 0 & 0 & 0 & 0 & 1\\end{pmatrix}$$\n",
    "\n",
    "The rows mean from which state you start, the colums are the states you can get to.\n",
    "\n",
    "We will plot all the possible transitions ranging from step size 1 to 20 as the probabilities of reaching a state if we start from state S3. "
   ]
  },
  {
   "cell_type": "code",
   "execution_count": 15,
   "metadata": {},
   "outputs": [
    {
     "data": {
      "image/png": "[encoded data removed]",
      "text/plain": [
       "<Figure size 432x288 with 1 Axes>"
      ]
     },
     "metadata": {
      "needs_background": "light"
     },
     "output_type": "display_data"
    }
   ],
   "source": [
    "import numpy as np\n",
    "P = np.matrix([[1., 0., 0., 0., 0., 0.],\n",
    "               [1./4, 1./2, 0., 1./4, 0., 0.],\n",
    "               [0., 0., 0., 1., 0., 0.],\n",
    "               [1./16, 1./4, 1./8, 1./4, 1./4, 1./16],\n",
    "               [0., 0., 0., 1./4, 1./2, 1./4],\n",
    "               [0., 0., 0., 0., 0., 1.]])\n",
    "\n",
    "\n",
    "\n",
    "import numpy as np\n",
    "from matplotlib import pyplot\n",
    "\n",
    "P = np.matrix([[1., 0., 0., 0., 0., 0.],\n",
    "               [1./4, 1./2, 0., 1./4, 0., 0.],\n",
    "               [0., 0., 0., 1., 0., 0.],\n",
    "               [1./16, 1./4, 1./8, 1./4, 1./4, 1./16],\n",
    "               [0., 0., 0., 1./4, 1./2, 1./4],\n",
    "               [0., 0., 0., 0., 0., 1.]])\n",
    "\n",
    "v = np.matrix([[0, 0, 1, 0, 0, 0]])\n",
    "\n",
    "# Get the data\n",
    "plot_data = []\n",
    "for step in range(20):\n",
    "    result = v * P**step\n",
    "    plot_data.append(np.array(result).flatten())\n",
    "\n",
    "# Convert the data format\n",
    "plot_data = np.array(plot_data)\n",
    "\n",
    "# Create the plot\n",
    "pyplot.figure(1)\n",
    "pyplot.xlabel('Steps')\n",
    "pyplot.ylabel('Probability')\n",
    "lines = []\n",
    "for i, shape in zip(range(6), ['x', 'h', 'H', 's', '8', 'r+']):\n",
    "    line, = pyplot.plot(plot_data[:, i], shape, label=\"S%i\" % (i+1))\n",
    "    lines.append(line)\n",
    "pyplot.legend(handles=lines, loc=1)\n",
    "pyplot.show()"
   ]
  },
  {
   "cell_type": "markdown",
   "metadata": {},
   "source": [
    "From the plot, we can observe that the probabilities of reaching states S1 and S6 initially increased and attained a maximum around 0.5 while the probabilities of all other states decreased and became 0. Therefore, if we start from state 3, and go on taking steps we will eventually end either in state S1 or state S6 with both having equal probabilities."
   ]
  },
  {
   "cell_type": "markdown",
   "metadata": {},
   "source": [
    "### Implementation of Markov Chain Model"
   ]
  },
  {
   "cell_type": "markdown",
   "metadata": {},
   "source": [
    "As a simple example, take a look at predicting the weather to understand this representation better. Consider that there are three possible states of the random variable Weather = {Sunny, Rainy, Snowy}. \n",
    "\n",
    "<img src=\"https://cdn-images-1.medium.com/max/1200/1*udOn3pR6SqrKU37KujfdPg.png\" style=\"height: 250px;\" />  \n",
    "\n",
    "In the above Markov chain, consider that the observed state of the current random variable is Sunny. Then, the probability that the random variable at the next time instance will also take the value Sunny is 0.8. It could also take the value Rainy with a probability of 0.19, or Snowy with a probability of 0.01. One thing to note here is that the sum of all the probability values on all the outward edges from any state should equal 1, since it’s an exhaustive event."
   ]
  },
  {
   "cell_type": "code",
   "execution_count": 2,
   "metadata": {},
   "outputs": [],
   "source": [
    "import numpy as np\n",
    " \n",
    "class MarkovChain(object):\n",
    "    def __init__(self, transition_prob):\n",
    "        \"\"\"\n",
    "        Initialize the MarkovChain instance.\n",
    " \n",
    "        Parameters\n",
    "        ----------\n",
    "        transition_prob: dict\n",
    "            A dict object representing the transition \n",
    "            probabilities in Markov Chain. \n",
    "            Should be of the form: \n",
    "                {'state1': {'state1': 0.1, 'state2': 0.4}, \n",
    "                 'state2': {...}}\n",
    "        \"\"\"\n",
    "        self.transition_prob = transition_prob\n",
    "        self.states = list(transition_prob.keys())\n",
    " \n",
    "    def next_state(self, current_state):\n",
    "        \"\"\"\n",
    "        Returns the state of the random variable at the next time \n",
    "        instance.\n",
    " \n",
    "        Parameters\n",
    "        ----------\n",
    "        current_state: str\n",
    "            The current state of the system.\n",
    "        \"\"\"\n",
    "        return np.random.choice(\n",
    "            self.states, \n",
    "            p=[self.transition_prob[current_state][next_state] \n",
    "               for next_state in self.states]\n",
    "        )\n",
    "    \n",
    "    def generate_states(self, current_state, no=10):\n",
    "        \"\"\"\n",
    "        Generates the next states of the system.\n",
    " \n",
    "        Parameters\n",
    "        ----------\n",
    "        current_state: str\n",
    "            The state of the current random variable.\n",
    " \n",
    "        no: int\n",
    "            The number of future states to generate.\n",
    "        \"\"\"\n",
    "        future_states = []\n",
    "        for i in range(no):\n",
    "            next_state = self.next_state(current_state)\n",
    "            future_states.append(next_state)\n",
    "            current_state = next_state\n",
    "        return future_states"
   ]
  },
  {
   "cell_type": "code",
   "execution_count": 8,
   "metadata": {},
   "outputs": [
    {
     "data": {
      "text/plain": [
       "['Snowy',\n",
       " 'Snowy',\n",
       " 'Snowy',\n",
       " 'Rainy',\n",
       " 'Rainy',\n",
       " 'Rainy',\n",
       " 'Rainy',\n",
       " 'Sunny',\n",
       " 'Sunny',\n",
       " 'Sunny']"
      ]
     },
     "execution_count": 8,
     "metadata": {},
     "output_type": "execute_result"
    }
   ],
   "source": [
    "transition_prob = {'Sunny': {'Sunny': 0.8, 'Rainy': 0.19, \n",
    " 'Snowy': 0.01},\n",
    " 'Rainy': {'Sunny': 0.2, 'Rainy': 0.7,\n",
    " 'Snowy': 0.1},\n",
    " 'Snowy': {'Sunny': 0.1, 'Rainy': 0.2,\n",
    " 'Snowy': 0.7}}\n",
    "\n",
    "weather_chain = MarkovChain(transition_prob=transition_prob)\n",
    "weather_chain.next_state(current_state='Sunny')\n",
    "weather_chain.generate_states(current_state='Snowy', no=10)     "
   ]
  },
  {
   "cell_type": "markdown",
   "metadata": {},
   "source": [
    "### Questionnaire"
   ]
  },
  {
   "cell_type": "markdown",
   "metadata": {},
   "source": [
    "**1. Suppose that there is a coin purse containing five quarters (each worth 25¢), five dimes (each worth 10¢), and five nickels (each worth 5¢), and one by one, coins are randomly drawn from the purse and are set on a table. If Xn represents the total value of the coins set on the table after n draws, with X0 = 0, then is the sequence { Xn : n ∈ N } a Markov process?** "
   ]
  },
  {
   "cell_type": "markdown",
   "metadata": {},
   "source": [
    "**2. Predicting the weather. The weather on day 0 (today) is known to be sunny. There are two kinds of weather - \"sunny\" \"rainy\". Based on this information predict tomorrow's and day after tomorrow's weather**  \n",
    "\n",
    "![alt text](https://upload.wikimedia.org/wikipedia/commons/7/7a/Markov_Chain_weather_model_matrix_as_a_graph.png)"
   ]
  },
  {
   "cell_type": "markdown",
   "metadata": {},
   "source": [
    "[Solutions](https://github.com/ebi-byte/kt/blob/master/supervised_ML/Markov%20Chain%20Solutions.ipynb)"
   ]
  }
 ],
 "metadata": {
  "kernelspec": {
   "display_name": "Python 3",
   "language": "python",
   "name": "python3"
  },
  "language_info": {
   "codemirror_mode": {
    "name": "ipython",
    "version": 3
   },
   "file_extension": ".py",
   "mimetype": "text/x-python",
   "name": "python",
   "nbconvert_exporter": "python",
   "pygments_lexer": "ipython3",
   "version": "3.7.3"
  }
 },
 "nbformat": 4,
 "nbformat_minor": 2
}
