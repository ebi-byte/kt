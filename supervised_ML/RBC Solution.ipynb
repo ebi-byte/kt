{
 "cells": [
  {
   "cell_type": "raw",
   "metadata": {},
   "source": [
    "Age       Spectacle_prescription  Astigmatism  Tear_production_rate   Recommended_Lenses\n",
    "young              myope              no            reduced                  none \n",
    "young              myope              no            normal                   soft \n",
    "young              myope             yes            reduced                  none \n",
    "young              myope             yes            normal                   hard \n",
    "young            hypermetrope         no            reduced                  none \n",
    "young            hypermetrope         no            normal                   soft \n",
    "young            hypermetrope        yes            reduced                  none \n",
    "young            hypermetrope        yes            normal                   hard \n",
    "pre-presbyopic     myope              no            reduced                  none \n",
    "pre-presbyopic     myope              no            normal                   soft \n",
    "pre-presbyopic     myope              no            normal                   soft \n",
    "pre-presbyopic     myope             yes            reduced                  none \n",
    "pre-presbyopic     myope             yes            normal                   hard \n",
    "pre-presbyopic   hypermetrope         no            reduced                  none \n",
    "pre-presbyopic   hypermetrope         no            normal                   soft \n",
    "pre-presbyopic   hypermetrope        yes            reduced                  none \n",
    "pre-presbyopic   hypermetrope        yes            normal                   none \n",
    "presbyopic         myope              no            reduced                  none \n",
    "presbyopic         myope              no            normal                   none \n",
    "presbyopic         myope             yes            reduced                  none \n",
    "presbyopic         myope             yes            normal                   hard \n",
    "presbyopic       hypermetrope         no            reduced                  none \n",
    "presbyopic       hypermetrope         no            normal                   soft \n",
    "presbyopic       hypermetrope        yes            reduced                  none \n",
    "presbyopic       hypermetrope        yes            normal                   none"
   ]
  },
  {
   "cell_type": "raw",
   "metadata": {},
   "source": [
    "Rule we seek: If ? then recommendation = hard.\n",
    "\n",
    "1st set of rules with one variable.\n",
    "\n",
    "Age = young                                2/8\n",
    "Age = pre-presbyopic                       1/8\n",
    "Age = presbyopic                           1/8\n",
    "Spectacle_prescription = myope             3/12\n",
    "Spectacle_prescription = hypermetrope      1/12\n",
    "Astigmatism = no                           0/12\n",
    "Astimagtism = yes                          4/12\n",
    "Tear_production_rate = reduced             0/12\n",
    "Tear_production_rate = normal              4/12"
   ]
  },
  {
   "cell_type": "markdown",
   "metadata": {},
   "source": [
    "The numbers on the right show the fraction of “correct” instances in the set singled out by that given condition. In this case, correct means that their recommendation is “hard.” "
   ]
  },
  {
   "cell_type": "markdown",
   "metadata": {},
   "source": [
    "Updated Rule: If Astigmatism = yes, then recommendation = hard. The rule isn’t very accurate, getting only 4 out of 12 that it covers. So, it needs further refinement."
   ]
  },
  {
   "cell_type": "markdown",
   "metadata": {},
   "source": [
    "Current state: If Astigmatism = yes and ?, then recommendation = hard. "
   ]
  },
  {
   "cell_type": "raw",
   "metadata": {},
   "source": [
    "Age = young                                2/4\n",
    "Age = pre-presbyopic                       1/4\n",
    "Age = presbyopic                           1/4\n",
    "Spectacle_prescription = myope             3/6\n",
    "Spectacle_prescription = hypermetrope      1/6\n",
    "Tear_production_rate = reduced             0/6\n",
    "Tear_production_rate = normal              4/6"
   ]
  },
  {
   "cell_type": "markdown",
   "metadata": {},
   "source": [
    "Updated Rule: If Astigmatism = yes and Tear_production_rate = normal, then recommendation = hard. The rule covers satisfactry part of the given dataset, still let's try adding one more variable."
   ]
  },
  {
   "cell_type": "markdown",
   "metadata": {},
   "source": [
    "Current state: If Astigmatism = yes and Tear_production_rate = normal and ?, then recommendation = hard. "
   ]
  },
  {
   "cell_type": "raw",
   "metadata": {},
   "source": [
    "Age = young                                2/2\n",
    "Age = pre-presbyopic                       1/2\n",
    "Age = presbyopic                           1/2\n",
    "Spectacle_prescription = myope             3/3\n",
    "Spectacle_prescription = hypermetrope      1/3"
   ]
  },
  {
   "cell_type": "markdown",
   "metadata": {},
   "source": [
    "**Final Rule:  If Astigmatism = yes and Tear_production_rate = normal and Spectacle_prescription = myope, then recommendation = hard**"
   ]
  }
 ],
 "metadata": {
  "kernelspec": {
   "display_name": "Python 3",
   "language": "python",
   "name": "python3"
  },
  "language_info": {
   "codemirror_mode": {
    "name": "ipython",
    "version": 3
   },
   "file_extension": ".py",
   "mimetype": "text/x-python",
   "name": "python",
   "nbconvert_exporter": "python",
   "pygments_lexer": "ipython3",
   "version": "3.7.3"
  }
 },
 "nbformat": 4,
 "nbformat_minor": 2
}
