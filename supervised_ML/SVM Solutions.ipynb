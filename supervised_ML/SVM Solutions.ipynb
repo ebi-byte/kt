{
 "cells": [
  {
   "cell_type": "markdown",
   "metadata": {},
   "source": [
    "### 1."
   ]
  },
  {
   "cell_type": "code",
   "execution_count": 2,
   "metadata": {},
   "outputs": [],
   "source": [
    "# load the diabetes dataset \n",
    "import numpy as np\n",
    "import pandas as pd\n",
    "data = pd.read_csv(\"diabetes.csv\")\n",
    "\n",
    "data.head()\n",
    "X = data.iloc[:,0:8]\n",
    "y = data.iloc[:,8]\n"
   ]
  },
  {
   "cell_type": "code",
   "execution_count": 3,
   "metadata": {},
   "outputs": [
    {
     "name": "stdout",
     "output_type": "stream",
     "text": [
      "SVM accuracy(in %): 77.27272727272727\n"
     ]
    }
   ],
   "source": [
    "# splitting X and y into training and testing sets \n",
    "from sklearn.model_selection import train_test_split \n",
    "X_train, X_test, y_train, y_test = train_test_split(X, y, test_size=0.4, random_state=1) \n",
    "  \n",
    "# training the model on training set \n",
    "from sklearn.svm import SVC # \"Support Vector Classifier\" \n",
    "clb = SVC(C=1, kernel='linear')   \n",
    "clb.fit(X_train, y_train) \n",
    "  \n",
    "# making predictions on the testing set \n",
    "y_pred = clb.predict(X_test) \n",
    "  \n",
    "# comparing actual response values (y_test) with predicted response values (y_pred) \n",
    "from sklearn import metrics \n",
    "print(\"SVM accuracy(in %):\", metrics.accuracy_score(y_test, y_pred)*100)\n",
    "\n"
   ]
  },
  {
   "cell_type": "markdown",
   "metadata": {},
   "source": [
    "### 2.\n",
    "SVM can be used for best results in the following cases:\n",
    "\n",
    "1) When number of features (variables) and number of training data is very large (say millions of features and millions of instances (data)).  \n",
    "2) When sparsity in the problem is very high, i.e., most of the features have zero value.  \n",
    "3) It is the best for document classification problems where sparsity is high and features/instances are also very high.  \n",
    "4) It also performs very well for problems like image classification, genes classsification, drug disambiguation etc. where number of features are high."
   ]
  }
 ],
 "metadata": {
  "kernelspec": {
   "display_name": "Python 3",
   "language": "python",
   "name": "python3"
  },
  "language_info": {
   "codemirror_mode": {
    "name": "ipython",
    "version": 3
   },
   "file_extension": ".py",
   "mimetype": "text/x-python",
   "name": "python",
   "nbconvert_exporter": "python",
   "pygments_lexer": "ipython3",
   "version": "3.7.3"
  }
 },
 "nbformat": 4,
 "nbformat_minor": 2
}
