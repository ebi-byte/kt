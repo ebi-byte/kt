{
 "cells": [
  {
   "cell_type": "markdown",
   "metadata": {},
   "source": [
    "### SOLUTIONS"
   ]
  },
  {
   "cell_type": "markdown",
   "metadata": {},
   "source": [
    "#### 1."
   ]
  },
  {
   "cell_type": "markdown",
   "metadata": {},
   "source": [
    "This sequence cannot be considered a Markov Process. \n",
    "\n",
    "To see why this is the case, suppose that in the first six draws, all five nickels and a quarter are drawn. Thus X6 = 0.50 dollars. If we know not just X6, but the earlier values as well, then we can determine which coins have been drawn, and we know that the next coin will not be a nickel; so we can determine that X7 ≥ 0.60 dollars with probability 1. But if we do not know the earlier values, then based only on the value X6, we might guess that we had drawn four dimes and two nickels, in which case it would certainly be possible to draw another nickel next. Thus, our guesses about X7 are impacted by our knowledge of values prior to X6.  \n",
    "\n",
    "However, it is possible to model this scenario as a Markov process. Instead of defining Xn to represent the total value of the coins on the table, we could define Xn to represent the count of the various coin types on the table. For instance, X6 = 1, 0 , 5 could be defined to represent the state where there is one quarter, zero dimes, and five nickels on the table after 6 one-by-one draws. This new model would be represented by 216 possible states (that is, 6x6x6 states, since each of the three coin types could have zero to five coins on the table by the end of the 6 draws). Suppose that the first draw results in state X1 = 0 , 1 , 0. The probability of achieving X2 now depends on X1. For example, the state X2 = 1 , 0 , 1 is not possible. After the second draw, the third draw depends on which coins have so far been drawn, but no longer only on the coins that were drawn for the first state (since probabilistically important information has since been added to the scenario). In this way, the likelihood of the Xn = i , j , k state depends exclusively on the outcome of the Xn−1 = ℓ , m , p state. "
   ]
  },
  {
   "cell_type": "markdown",
   "metadata": {},
   "source": [
    "#### 2. ![alt text](https://upload.wikimedia.org/wikipedia/commons/7/7a/Markov_Chain_weather_model_matrix_as_a_graph.png)"
   ]
  },
  {
   "cell_type": "markdown",
   "metadata": {},
   "source": [
    "The weather on day 0 (today) is known to be sunny.  This is represented by a vector in which the \"sunny\" entry is 100%, and the \"rainy\" entry is 0%:\n",
    "\n",
    "X{0} = \\begin{bmatrix} 1 & 0    \\end{bmatrix}\n",
    "\n",
    "The transition matrix is given by:\n",
    "\n",
    "P = \\begin{bmatrix} 0.9 & 0.1 \\\\ 0.5 & 0.5    \\end{bmatrix}\n",
    "\n",
    "Tomorrow'a weather can be predicted by: X{1} = X{0}.P\n",
    "\n",
    "Therefore, X{1} = \\begin{bmatrix} 1 & 0    \\end{bmatrix} \\begin{bmatrix} 0.9 & 0.1 \\\\ 0.5 & 0.5    \\end{bmatrix}\n",
    "\n",
    "X{1} = \\begin{bmatrix} 0.9 & 0.1    \\end{bmatrix}\n",
    "\n",
    "Thus, there is a 90% chance that day 1 will also be sunny. \n",
    "\n",
    "The weather on day 2 (the day after tomorrow) can be predicted in the same way: \n",
    "\n",
    ": <math>\n",
    "    $$X(2) = X(0).P^2$$ \n",
    "    = \\begin{bmatrix}\n",
    "        1 & 0\n",
    "    \\end{bmatrix}\n",
    "    \\begin{bmatrix}\n",
    "        0.9 & 0.1 \\\\\n",
    "        0.5 & 0.5\n",
    "    \\end{bmatrix}\n",
    "    \\begin{bmatrix}\n",
    "        0.9 & 0.1 \\\\\n",
    "        0.5 & 0.5\n",
    "    \\end{bmatrix}\n",
    "\n",
    "or\n",
    "<math>\n",
    "  \\begin{bmatrix}\n",
    "        0.9 & 0.1\n",
    "    \\end{bmatrix}\n",
    "    \\begin{bmatrix}\n",
    "        0.9 & 0.1 \\\\\n",
    "        0.5 & 0.5\n",
    "    \\end{bmatrix}\n",
    "    \n",
    "   = \\begin{bmatrix}\n",
    "        0.86 & 0.14\n",
    "     \\end{bmatrix} \n",
    "</math>"
   ]
  }
 ],
 "metadata": {
  "kernelspec": {
   "display_name": "Python 3",
   "language": "python",
   "name": "python3"
  },
  "language_info": {
   "codemirror_mode": {
    "name": "ipython",
    "version": 3
   },
   "file_extension": ".py",
   "mimetype": "text/x-python",
   "name": "python",
   "nbconvert_exporter": "python",
   "pygments_lexer": "ipython3",
   "version": "3.7.3"
  }
 },
 "nbformat": 4,
 "nbformat_minor": 2
}
