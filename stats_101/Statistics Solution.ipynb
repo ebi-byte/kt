{
 "cells": [
  {
   "cell_type": "markdown",
   "metadata": {},
   "source": [
    "#### 1. \n",
    "\n",
    "At first glance, We might reason as follows: “We know that one is a boy, so the only question is whether the other one is a boy, and the chances of that being the case are 50%. So, the answer must be 50%. But, it happens to be incorrect.\n",
    "\n",
    "Define two events, A and B as follows:\n",
    "\n",
    "A = Both children are boys.\n",
    "B = One of them is a boy.\n",
    "\n",
    "We have to find P(A|B)\n",
    "\n",
    "From Bayes' Theorem, \n",
    "\n",
    "P(A|B) = P(B|A)P(A)/P(B) = (1)(1/4)/(3/4) = 1/3"
   ]
  },
  {
   "cell_type": "markdown",
   "metadata": {},
   "source": [
    "#### 2. \n",
    "Rejecting the null hypothesis Ho when in fact Ho is the truth is known as Type 1 error. Type 1 errors depend on the selection of significance level. In this problem, a significance level of 2% is selected. Therefore, the probability of a Tpe 1 error happening = 0.02"
   ]
  },
  {
   "cell_type": "markdown",
   "metadata": {},
   "source": [
    "#### 3.\n",
    "The following formula can be used for computation of Poisson probability:\n",
    "\n",
    "P (x, $\\mu$) = $\\frac{(e^{-\\mu}) (\\mu^x)}{x!}$\n",
    "\n",
    "Here, ‘x’ represents the actual number of occurring successes that are resulting from the Poisson experiment, the value is ‘e’ is 2.71828 approximately, '$\\mu$' is the average of the number of successes that are within a specified region.\n",
    "\n",
    "Here we know this is a Poisson experiment with following values given:\n",
    "$\\mu$= 3, average number of files completed a day\n",
    "\n",
    "x = 5, the number of files required to be completed next day\n",
    "\n",
    "And e = 2.71828 being a constant\n",
    "\n",
    "On substituting the values in the Poisson distribution formula mentioned above we get the Poisson probability in this case.\n",
    "\n",
    "We get,\n",
    "\n",
    "P(x,$\\mu$) = $\\frac{(e^{-\\mu}) (\\mu^x)}{x!}$\n",
    "\n",
    "P (5, 3) = $\\frac{(2.71828)^{-3} (3^5)}{5!}$\n",
    "\n",
    "= 0.1008 approximately.\n",
    "\n",
    "Hence the probability for the person to complete 5 files the next day is 0.1008 approximately.\n"
   ]
  },
  {
   "cell_type": "markdown",
   "metadata": {},
   "source": [
    "#### 4.\n",
    "In order to choose a distribution for study, we have to first understand the data and the target requirements. \n",
    "\n",
    "Normal distribution describes continuous data which have a symmetric distribution, with a characteristic 'bell' shape.  \n",
    "Binomial distribution describes the distribution of binary data from a finite sample. Thus it gives the probability of getting r events out of n trials.  \n",
    "Poisson distribution describes the distribution of binary data from an infinite sample. Thus it gives the probability of getting r events in a population.\n",
    "\n",
    "In this example, consider the weights and heights of the students. The weights and heights will more or less form a symmetric distribution, and we might be looking into the mean, median or mode of these features so as to understand the data. Normal distribution is a bell shaped curve characterised by two parameters mean and standard deviation. Thus, for the analysis of these two variables, normal distribution will be the best choice. \n",
    "\n",
    "Consider the attendance of a class on a particular day. We will be looking into the probabilities of different number of students attending the class on a particular day. The Poisson distribution is one such distribution whose area under the curve at a particular point gives the probabilities of that many events happening. Thus, Poisson distribution will be an apt choice for these kinds of analysis."
   ]
  },
  {
   "cell_type": "markdown",
   "metadata": {},
   "source": [
    "#### 5. \n",
    "Data which can take only a binary (0 or 1) response, such as fail or pass in an exam, follow the binomial distribution provided *the underlying population response rate does not change*. Under these conditions, binomial distribution will be of the best use. In this example, if we can assume that the student passing rate will be independent of the attempt, then we can use binomial distribution for the required analysis.  "
   ]
  }
 ],
 "metadata": {
  "kernelspec": {
   "display_name": "Python 3",
   "language": "python",
   "name": "python3"
  },
  "language_info": {
   "codemirror_mode": {
    "name": "ipython",
    "version": 3
   },
   "file_extension": ".py",
   "mimetype": "text/x-python",
   "name": "python",
   "nbconvert_exporter": "python",
   "pygments_lexer": "ipython3",
   "version": "3.7.3"
  }
 },
 "nbformat": 4,
 "nbformat_minor": 2
}
