{
 "cells": [
  {
   "cell_type": "markdown",
   "metadata": {},
   "source": [
    "## LSTM Networks"
   ]
  },
  {
   "cell_type": "markdown",
   "metadata": {},
   "source": [
    "Long Short Term Memory networks – usually just called “LSTMs” – are a special kind of RNN, capable of learning long-term dependencies.\n",
    "\n",
    "LSTMs are explicitly designed to avoid the long-term dependency problem. Remembering information for long periods of time is practically their default behavior, not something they struggle to learn!\n",
    "\n",
    "All recurrent neural networks have the form of a chain of repeating modules of neural network. In standard RNNs, this repeating module will have a very simple structure, such as a single tanh layer.\n",
    "\n",
    "<img src=\"http://colah.github.io/posts/2015-08-Understanding-LSTMs/img/LSTM3-SimpleRNN.png\" style=\"height: 200px;\" />  \n",
    "                       \n",
    "                             The repeating module in a standard RNN contains a single layer \n",
    "\n",
    "\n",
    "LSTMs also have this chain like structure, but the repeating module has a different structure. Instead of having a single neural network layer, there are four, interacting in a very special way.\n",
    "\n",
    "<img src=\"https://colah.github.io/posts/2015-08-Understanding-LSTMs/img/LSTM3-chain.png\" style=\"height: 200px;\" />  \n",
    "                        \n",
    "                             The repeating module in an LSTM contains four interacting layers. \n",
    "                             \n",
    "\n",
    "Don’t worry about the details of what’s going on. We’ll walk through the LSTM diagram step by step later. For now, let’s just try to get comfortable with the notation we’ll be using.\n",
    "\n",
    "<img src=\"http://colah.github.io/posts/2015-08-Understanding-LSTMs/img/LSTM2-notation.png\" style=\"height: 100px;\" />  \n",
    "\n",
    "In the above diagram, each line carries an entire vector, from the output of one node to the inputs of others. The pink circles represent pointwise operations, like vector addition, while the yellow boxes are learned neural network layers. Lines merging denote concatenation, while a line forking denote its content being copied and the copies going to different locations. "
   ]
  },
  {
   "cell_type": "markdown",
   "metadata": {},
   "source": [
    "### Idea Behind LSTM"
   ]
  },
  {
   "cell_type": "markdown",
   "metadata": {},
   "source": [
    "The key to LSTMs is the **cell state**, the horizontal line running through the top of the diagram. The cell state is kind of like a conveyor belt. It runs straight down the entire chain, with only some minor linear interactions. It’s very easy for information to just flow along it unchanged.\n",
    "\n",
    "<img src=\"http://colah.github.io/posts/2015-08-Understanding-LSTMs/img/LSTM3-C-line.png\" style=\"height: 200px;\" />  \n",
    "\n",
    "The LSTM does have the ability to remove or add information to the cell state, carefully regulated by structures called gates.\n",
    "\n",
    "Gates are a way to optionally let information through. They are composed out of a sigmoid neural net layer and a pointwise multiplication operation.\n",
    "\n",
    "<img src=\"http://colah.github.io/posts/2015-08-Understanding-LSTMs/img/LSTM3-gate.png\" style=\"height: 150px;\" />  \n",
    "\n",
    "The sigmoid layer outputs numbers between zero and one, describing how much of each component should be let through. A value of zero means “let nothing through,” while a value of one means “let everything through!”\n",
    "\n",
    "An LSTM has three of these gates, to protect and control the cell state."
   ]
  },
  {
   "cell_type": "markdown",
   "metadata": {},
   "source": [
    "### Step-by-Step LSTM Walk Through"
   ]
  },
  {
   "cell_type": "markdown",
   "metadata": {},
   "source": [
    "The first step in our LSTM is to decide what information we’re going to throw away from the cell state. This decision is made by a sigmoid layer called the “forget gate layer.” It looks at $h_{t-1}$ and $x_t$, and outputs a number between $0$ and $1$ for each number in the cell state $C_{t-1}$. A $1$ represents “completely keep this” while a $0$ represents “completely get rid of this.”\n",
    "\n",
    "Let’s go back to our example of a language model trying to predict the next word based on all the previous ones. In such a problem, the cell state might include the gender of the present subject, so that the correct pronouns can be used. When we see a new subject, we want to forget the gender of the old subject.\n",
    "<img src=\"http://colah.github.io/posts/2015-08-Understanding-LSTMs/img/LSTM3-focus-f.png\" style=\"height: 200px;\" />  \n",
    "\n",
    "The next step is to decide what new information we’re going to store in the cell state. This has two parts. First, a sigmoid layer called the “input gate layer” decides which values we’ll update. Next, a tanh layer creates a vector of new candidate values, $\\tilde{C}_t$, that could be added to the state. In the next step, we’ll combine these two to create an update to the state.\n",
    "\n",
    "In the example of our language model, we’d want to add the gender of the new subject to the cell state, to replace the old one we’re forgetting.\n",
    "<img src=\"http://colah.github.io/posts/2015-08-Understanding-LSTMs/img/LSTM3-focus-i.png\" style=\"height: 200px;\" />  \n",
    "\n",
    "It’s now time to update the old cell state, $C_{t-1}$, into the new cell state $C_t$. The previous steps already decided what to do, we just need to actually do it.\n",
    "\n",
    "We multiply the old state by $f_t$, forgetting the things we decided to forget earlier. Then we add $i_t*\\tilde{C}_t$. This is the new candidate values, scaled by how much we decided to update each state value.\n",
    "\n",
    "In the case of the language model, this is where we’d actually drop the information about the old subject’s gender and add the new information, as we decided in the previous steps.\n",
    "<img src=\"https://colah.github.io/posts/2015-08-Understanding-LSTMs/img/LSTM3-focus-C.png\" style=\"height: 200px;\" />  \n",
    "\n",
    "Finally, we need to decide what we’re going to output. This output will be based on our cell state, but will be a filtered version. First, we run a sigmoid layer which decides what parts of the cell state we’re going to output. Then, we put the cell state through $\\tanh$ to push the values to be between $-1$ and $1$ and multiply it by the output of the sigmoid gate, so that we only output the parts we decided to.\n",
    "\n",
    "For the language model example, since it just saw a subject, it might want to output information relevant to a verb, in case that’s what is coming next. For example, it might output whether the subject is singular or plural, so that we know what form a verb should be conjugated into if that’s what follows next.\n",
    "<img src=\"http://colah.github.io/posts/2015-08-Understanding-LSTMs/img/LSTM3-focus-o.png\" style=\"height: 200px;\" />  "
   ]
  },
  {
   "cell_type": "markdown",
   "metadata": {},
   "source": [
    "### Variants on Long Short Term Memory"
   ]
  },
  {
   "cell_type": "markdown",
   "metadata": {},
   "source": [
    "What I’ve described so far is a pretty normal LSTM. But not all LSTMs are the same as the above. In fact, it seems like almost every paper involving LSTMs uses a slightly different version. The differences are minor, but it’s worth mentioning some of them.\n",
    "\n",
    "One popular LSTM variant, is adding “peephole connections.” This means that we let the gate layers look at the cell state.\n",
    "\n",
    "<img src=\"https://colah.github.io/posts/2015-08-Understanding-LSTMs/img/LSTM3-var-peepholes.png\" style=\"height: 200px;\" />  \n",
    "\n",
    "The above diagram adds peepholes to all the gates, but many papers will give some peepholes and not others.\n",
    "\n",
    "Another variation is to use coupled forget and input gates. Instead of separately deciding what to forget and what we should add new information to, we make those decisions together. We only forget when we’re going to input something in its place. We only input new values to the state when we forget something older.\n",
    "\n",
    "<img src=\"http://colah.github.io/posts/2015-08-Understanding-LSTMs/img/LSTM3-var-tied.png\" style=\"height: 200px;\" />  \n",
    "\n",
    "A slightly more dramatic variation on the LSTM is the Gated Recurrent Unit, or GRU. It combines the forget and input gates into a single “update gate.” It also merges the cell state and hidden state, and makes some other changes. The resulting model is simpler than standard LSTM models, and has been growing increasingly popular.\n",
    "\n",
    "<img src=\"https://colah.github.io/posts/2015-08-Understanding-LSTMs/img/LSTM3-var-GRU.png\" style=\"height: 200px;\" />  \n"
   ]
  },
  {
   "cell_type": "markdown",
   "metadata": {},
   "source": [
    "### LSTM Implementation"
   ]
  },
  {
   "cell_type": "markdown",
   "metadata": {},
   "source": [
    "The problem we are going to look at in this post is theInternational Airline Passengers prediction problem.\n",
    "\n",
    "This is a problem where, given a year and a month, the task is to predict the number of international airline passengers in units of 1,000. The data ranges from January 1949 to December 1960, or 12 years, with 144 observations.\n",
    "\n",
    "We can load this dataset easily using the Pandas library. We are not interested in the date, given that each observation is separated by the same interval of one month. Therefore, when we load the dataset we can exclude the first column."
   ]
  },
  {
   "cell_type": "code",
   "execution_count": 2,
   "metadata": {},
   "outputs": [
    {
     "data": {
      "image/png": "[encoded data removed]",
      "text/plain": [
       "<Figure size 432x288 with 1 Axes>"
      ]
     },
     "metadata": {
      "needs_background": "light"
     },
     "output_type": "display_data"
    }
   ],
   "source": [
    "import pandas\n",
    "import matplotlib.pyplot as plt\n",
    "dataset = pandas.read_csv('airline-passengers.csv', usecols=[1], engine='python')\n",
    "plt.plot(dataset)\n",
    "plt.show()"
   ]
  },
  {
   "cell_type": "code",
   "execution_count": 5,
   "metadata": {},
   "outputs": [],
   "source": [
    "import numpy\n",
    "import matplotlib.pyplot as plt\n",
    "import math\n",
    "from keras.models import Sequential\n",
    "from keras.layers import Dense\n",
    "from keras.layers import LSTM\n",
    "from sklearn.preprocessing import MinMaxScaler\n",
    "from sklearn.metrics import mean_squared_error\n",
    "\n",
    "# fix random seed for reproducibility\n",
    "numpy.random.seed(7)"
   ]
  },
  {
   "cell_type": "markdown",
   "metadata": {},
   "source": [
    "We can phrase the problem as a regression problem.\n",
    "\n",
    "That is, given the number of passengers (in units of thousands) this month, what is the number of passengers next month?\n",
    "We can write a simple function to convert our single column of data into a two-column dataset: the first column containing this month’s (t) passenger count and the second column containing next month’s (t+1) passenger count, to be predicted."
   ]
  },
  {
   "cell_type": "code",
   "execution_count": 6,
   "metadata": {},
   "outputs": [],
   "source": [
    "dataframe = pandas.read_csv('airline-passengers.csv', usecols=[1], engine='python')\n",
    "dataset = dataframe.values\n",
    "dataset = dataset.astype('float32')"
   ]
  },
  {
   "cell_type": "markdown",
   "metadata": {},
   "source": [
    "LSTMs are sensitive to the scale of the input data, specifically when the sigmoid (default) or tanh activation functions are used. It can be a good practice to rescale the data to the range of 0-to-1, also called normalizing."
   ]
  },
  {
   "cell_type": "code",
   "execution_count": 7,
   "metadata": {},
   "outputs": [],
   "source": [
    "# normalize the dataset\n",
    "scaler = MinMaxScaler(feature_range=(0, 1))\n",
    "dataset = scaler.fit_transform(dataset)"
   ]
  },
  {
   "cell_type": "markdown",
   "metadata": {},
   "source": [
    "After we model our data and estimate the skill of our model on the training dataset, we need to get an idea of the skill of the model on new unseen data. For a normal classification or regression problem, we would do this using cross validation.\n",
    "With time series data, the sequence of values is important. A simple method that we can use is to split the ordered dataset into train and test datasets. The code below calculates the index of the split point and separates the data into the training datasets with 67% of the observations that we can use to train our model, leaving the remaining 33% for testing the model."
   ]
  },
  {
   "cell_type": "code",
   "execution_count": 8,
   "metadata": {},
   "outputs": [
    {
     "name": "stdout",
     "output_type": "stream",
     "text": [
      "96 48\n"
     ]
    }
   ],
   "source": [
    "# split into train and test sets\n",
    "train_size = int(len(dataset) * 0.67)\n",
    "test_size = len(dataset) - train_size\n",
    "train, test = dataset[0:train_size,:], dataset[train_size:len(dataset),:]\n",
    "print(len(train), len(test))"
   ]
  },
  {
   "cell_type": "markdown",
   "metadata": {},
   "source": [
    "Now we can define a function to create a new dataset, as described above.  \n",
    "The function takes two arguments: the dataset, which is a NumPy array that we want to convert into a dataset, and the look_back, which is the number of previous time steps to use as input variables to predict the next time period — in this case defaulted to 1.\n",
    "\n",
    "This default will create a dataset where X is the number of passengers at a given time (t) and Y is the number of passengers at the next time (t + 1)."
   ]
  },
  {
   "cell_type": "code",
   "execution_count": 9,
   "metadata": {},
   "outputs": [],
   "source": [
    "# convert an array of values into a dataset matrix\n",
    "def create_dataset(dataset, look_back=1):\n",
    "\tdataX, dataY = [], []\n",
    "\tfor i in range(len(dataset)-look_back-1):\n",
    "\t\ta = dataset[i:(i+look_back), 0]\n",
    "\t\tdataX.append(a)\n",
    "\t\tdataY.append(dataset[i + look_back, 0])\n",
    "\treturn numpy.array(dataX), numpy.array(dataY)"
   ]
  },
  {
   "cell_type": "code",
   "execution_count": 11,
   "metadata": {},
   "outputs": [],
   "source": [
    "# reshape into X=t and Y=t+1\n",
    "look_back = 1\n",
    "trainX, trainY = create_dataset(train, look_back)\n",
    "testX, testY = create_dataset(test, look_back)"
   ]
  },
  {
   "cell_type": "markdown",
   "metadata": {},
   "source": [
    "The LSTM network expects the input data (X) to be provided with a specific array structure in the form of: [samples, time steps, features].\n",
    "Currently, our data is in the form: [samples, features] and we are framing the problem as one time step for each sample. We can transform the prepared train and test input data into the expected structure using numpy.reshape() as follows:"
   ]
  },
  {
   "cell_type": "code",
   "execution_count": 12,
   "metadata": {},
   "outputs": [],
   "source": [
    "# reshape input to be [samples, time steps, features]\n",
    "trainX = numpy.reshape(trainX, (trainX.shape[0], 1, trainX.shape[1]))\n",
    "testX = numpy.reshape(testX, (testX.shape[0], 1, testX.shape[1]))"
   ]
  },
  {
   "cell_type": "markdown",
   "metadata": {},
   "source": [
    "We are now ready to design and fit our LSTM network for this problem.\n",
    "\n",
    "The network has a visible layer with 1 input, a hidden layer with 4 LSTM blocks or neurons, and an output layer that makes a single value prediction. The default sigmoid activation function is used for the LSTM blocks. The network is trained for 100 epochs and a batch size of 1 is used."
   ]
  },
  {
   "cell_type": "code",
   "execution_count": 13,
   "metadata": {},
   "outputs": [
    {
     "name": "stdout",
     "output_type": "stream",
     "text": [
      "Epoch 1/100\n",
      " - 1s - loss: 0.0409\n",
      "Epoch 2/100\n",
      " - 0s - loss: 0.0197\n",
      "Epoch 3/100\n",
      " - 0s - loss: 0.0142\n",
      "Epoch 4/100\n",
      " - 0s - loss: 0.0127\n",
      "Epoch 5/100\n",
      " - 0s - loss: 0.0117\n",
      "Epoch 6/100\n",
      " - 0s - loss: 0.0106\n",
      "Epoch 7/100\n",
      " - 0s - loss: 0.0097\n",
      "Epoch 8/100\n",
      " - 0s - loss: 0.0087\n",
      "Epoch 9/100\n",
      " - 0s - loss: 0.0076\n",
      "Epoch 10/100\n",
      " - 0s - loss: 0.0065\n",
      "Epoch 11/100\n",
      " - 0s - loss: 0.0057\n",
      "Epoch 12/100\n",
      " - 0s - loss: 0.0048\n",
      "Epoch 13/100\n",
      " - 0s - loss: 0.0041\n",
      "Epoch 14/100\n",
      " - 0s - loss: 0.0035\n",
      "Epoch 15/100\n",
      " - 0s - loss: 0.0030\n",
      "Epoch 16/100\n",
      " - 0s - loss: 0.0027\n",
      "Epoch 17/100\n",
      " - 0s - loss: 0.0025\n",
      "Epoch 18/100\n",
      " - 0s - loss: 0.0023\n",
      "Epoch 19/100\n",
      " - 0s - loss: 0.0022\n",
      "Epoch 20/100\n",
      " - 0s - loss: 0.0021\n",
      "Epoch 21/100\n",
      " - 0s - loss: 0.0021\n",
      "Epoch 22/100\n",
      " - 0s - loss: 0.0021\n",
      "Epoch 23/100\n",
      " - 0s - loss: 0.0021\n",
      "Epoch 24/100\n",
      " - 0s - loss: 0.0020\n",
      "Epoch 25/100\n",
      " - 0s - loss: 0.0020\n",
      "Epoch 26/100\n",
      " - 0s - loss: 0.0021\n",
      "Epoch 27/100\n",
      " - 0s - loss: 0.0020\n",
      "Epoch 28/100\n",
      " - 0s - loss: 0.0020\n",
      "Epoch 29/100\n",
      " - 0s - loss: 0.0020\n",
      "Epoch 30/100\n",
      " - 0s - loss: 0.0021\n",
      "Epoch 31/100\n",
      " - 0s - loss: 0.0020\n",
      "Epoch 32/100\n",
      " - 0s - loss: 0.0020\n",
      "Epoch 33/100\n",
      " - 0s - loss: 0.0021\n",
      "Epoch 34/100\n",
      " - 0s - loss: 0.0021\n",
      "Epoch 35/100\n",
      " - 0s - loss: 0.0021\n",
      "Epoch 36/100\n",
      " - 0s - loss: 0.0020\n",
      "Epoch 37/100\n",
      " - 0s - loss: 0.0021\n",
      "Epoch 38/100\n",
      " - 0s - loss: 0.0020\n",
      "Epoch 39/100\n",
      " - 0s - loss: 0.0021\n",
      "Epoch 40/100\n",
      " - 0s - loss: 0.0020\n",
      "Epoch 41/100\n",
      " - 0s - loss: 0.0020\n",
      "Epoch 42/100\n",
      " - 0s - loss: 0.0020\n",
      "Epoch 43/100\n",
      " - 0s - loss: 0.0021\n",
      "Epoch 44/100\n",
      " - 0s - loss: 0.0020\n",
      "Epoch 45/100\n",
      " - 0s - loss: 0.0021\n",
      "Epoch 46/100\n",
      " - 0s - loss: 0.0020\n",
      "Epoch 47/100\n",
      " - 0s - loss: 0.0020\n",
      "Epoch 48/100\n",
      " - 0s - loss: 0.0020\n",
      "Epoch 49/100\n",
      " - 0s - loss: 0.0020\n",
      "Epoch 50/100\n",
      " - 0s - loss: 0.0020\n",
      "Epoch 51/100\n",
      " - 0s - loss: 0.0020\n",
      "Epoch 52/100\n",
      " - 0s - loss: 0.0020\n",
      "Epoch 53/100\n",
      " - 0s - loss: 0.0020\n",
      "Epoch 54/100\n",
      " - 0s - loss: 0.0020\n",
      "Epoch 55/100\n",
      " - 0s - loss: 0.0021\n",
      "Epoch 56/100\n",
      " - 0s - loss: 0.0020\n",
      "Epoch 57/100\n",
      " - 0s - loss: 0.0020\n",
      "Epoch 58/100\n",
      " - 0s - loss: 0.0020\n",
      "Epoch 59/100\n",
      " - 0s - loss: 0.0020\n",
      "Epoch 60/100\n",
      " - 0s - loss: 0.0020\n",
      "Epoch 61/100\n",
      " - 0s - loss: 0.0021\n",
      "Epoch 62/100\n",
      " - 0s - loss: 0.0020\n",
      "Epoch 63/100\n",
      " - 0s - loss: 0.0020\n",
      "Epoch 64/100\n",
      " - 0s - loss: 0.0020\n",
      "Epoch 65/100\n",
      " - 0s - loss: 0.0020\n",
      "Epoch 66/100\n",
      " - 0s - loss: 0.0020\n",
      "Epoch 67/100\n",
      " - 0s - loss: 0.0020\n",
      "Epoch 68/100\n",
      " - 0s - loss: 0.0021\n",
      "Epoch 69/100\n",
      " - 0s - loss: 0.0020\n",
      "Epoch 70/100\n",
      " - 0s - loss: 0.0021\n",
      "Epoch 71/100\n",
      " - 0s - loss: 0.0020\n",
      "Epoch 72/100\n",
      " - 0s - loss: 0.0020\n",
      "Epoch 73/100\n",
      " - 0s - loss: 0.0020\n",
      "Epoch 74/100\n",
      " - 0s - loss: 0.0021\n",
      "Epoch 75/100\n",
      " - 0s - loss: 0.0021\n",
      "Epoch 76/100\n",
      " - 0s - loss: 0.0020\n",
      "Epoch 77/100\n",
      " - 0s - loss: 0.0021\n",
      "Epoch 78/100\n",
      " - 0s - loss: 0.0019\n",
      "Epoch 79/100\n",
      " - 0s - loss: 0.0022\n",
      "Epoch 80/100\n",
      " - 0s - loss: 0.0020\n",
      "Epoch 81/100\n",
      " - 0s - loss: 0.0020\n",
      "Epoch 82/100\n",
      " - 0s - loss: 0.0020\n",
      "Epoch 83/100\n",
      " - 0s - loss: 0.0020\n",
      "Epoch 84/100\n",
      " - 0s - loss: 0.0020\n",
      "Epoch 85/100\n",
      " - 0s - loss: 0.0021\n",
      "Epoch 86/100\n",
      " - 0s - loss: 0.0021\n",
      "Epoch 87/100\n",
      " - 0s - loss: 0.0020\n",
      "Epoch 88/100\n",
      " - 0s - loss: 0.0020\n",
      "Epoch 89/100\n",
      " - 0s - loss: 0.0020\n",
      "Epoch 90/100\n",
      " - 0s - loss: 0.0020\n",
      "Epoch 91/100\n",
      " - 0s - loss: 0.0020\n",
      "Epoch 92/100\n",
      " - 0s - loss: 0.0020\n",
      "Epoch 93/100\n",
      " - 0s - loss: 0.0021\n",
      "Epoch 94/100\n",
      " - 0s - loss: 0.0021\n",
      "Epoch 95/100\n",
      " - 0s - loss: 0.0020\n",
      "Epoch 96/100\n",
      " - 0s - loss: 0.0020\n",
      "Epoch 97/100\n",
      " - 0s - loss: 0.0020\n",
      "Epoch 98/100\n",
      " - 0s - loss: 0.0020\n",
      "Epoch 99/100\n",
      " - 0s - loss: 0.0020\n",
      "Epoch 100/100\n",
      " - 0s - loss: 0.0020\n"
     ]
    },
    {
     "data": {
      "text/plain": [
       "<keras.callbacks.callbacks.History at 0x1c1aa5ef550>"
      ]
     },
     "execution_count": 13,
     "metadata": {},
     "output_type": "execute_result"
    }
   ],
   "source": [
    "# create and fit the LSTM network\n",
    "model = Sequential()\n",
    "model.add(LSTM(4, input_shape=(1, look_back)))\n",
    "model.add(Dense(1))\n",
    "model.compile(loss='mean_squared_error', optimizer='adam')\n",
    "model.fit(trainX, trainY, epochs=100, batch_size=1, verbose=2)"
   ]
  },
  {
   "cell_type": "markdown",
   "metadata": {},
   "source": [
    "Once the model is fit, we can estimate the performance of the model on the train and test datasets. This will give us a point of comparison for new models.\n",
    "Note that we invert the predictions before calculating error scores to ensure that performance is reported in the same units as the original data (thousands of passengers per month)."
   ]
  },
  {
   "cell_type": "code",
   "execution_count": 14,
   "metadata": {},
   "outputs": [
    {
     "name": "stdout",
     "output_type": "stream",
     "text": [
      "Train Score: 22.93 RMSE\n",
      "Test Score: 47.60 RMSE\n"
     ]
    }
   ],
   "source": [
    "# make predictions\n",
    "trainPredict = model.predict(trainX)\n",
    "testPredict = model.predict(testX)\n",
    "# invert predictions\n",
    "trainPredict = scaler.inverse_transform(trainPredict)\n",
    "trainY = scaler.inverse_transform([trainY])\n",
    "testPredict = scaler.inverse_transform(testPredict)\n",
    "testY = scaler.inverse_transform([testY])\n",
    "# calculate root mean squared error\n",
    "trainScore = math.sqrt(mean_squared_error(trainY[0], trainPredict[:,0]))\n",
    "print('Train Score: %.2f RMSE' % (trainScore))\n",
    "testScore = math.sqrt(mean_squared_error(testY[0], testPredict[:,0]))\n",
    "print('Test Score: %.2f RMSE' % (testScore))"
   ]
  },
  {
   "cell_type": "markdown",
   "metadata": {},
   "source": [
    "Finally, we can generate predictions using the model for both the train and test dataset to get a visual indication of the skill of the model.\n",
    "\n",
    "Because of how the dataset was prepared, we must shift the predictions so that they align on the x-axis with the original dataset. Once prepared, the data is plotted, showing the original dataset in blue, the predictions for the training dataset in green, and the predictions on the unseen test dataset in red."
   ]
  },
  {
   "cell_type": "code",
   "execution_count": 15,
   "metadata": {},
   "outputs": [
    {
     "data": {
      "image/png": "[encoded data removed]",
      "text/plain": [
       "<Figure size 432x288 with 1 Axes>"
      ]
     },
     "metadata": {
      "needs_background": "light"
     },
     "output_type": "display_data"
    }
   ],
   "source": [
    "# shift train predictions for plotting\n",
    "trainPredictPlot = numpy.empty_like(dataset)\n",
    "trainPredictPlot[:, :] = numpy.nan\n",
    "trainPredictPlot[look_back:len(trainPredict)+look_back, :] = trainPredict\n",
    "# shift test predictions for plotting\n",
    "testPredictPlot = numpy.empty_like(dataset)\n",
    "testPredictPlot[:, :] = numpy.nan\n",
    "testPredictPlot[len(trainPredict)+(look_back*2)+1:len(dataset)-1, :] = testPredict\n",
    "# plot baseline and predictions\n",
    "plt.plot(scaler.inverse_transform(dataset))\n",
    "plt.plot(trainPredictPlot)\n",
    "plt.plot(testPredictPlot)\n",
    "plt.show()"
   ]
  }
 ],
 "metadata": {
  "kernelspec": {
   "display_name": "Python 3",
   "language": "python",
   "name": "python3"
  },
  "language_info": {
   "codemirror_mode": {
    "name": "ipython",
    "version": 3
   },
   "file_extension": ".py",
   "mimetype": "text/x-python",
   "name": "python",
   "nbconvert_exporter": "python",
   "pygments_lexer": "ipython3",
   "version": "3.7.3"
  }
 },
 "nbformat": 4,
 "nbformat_minor": 2
}
