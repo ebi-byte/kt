{
 "cells": [
  {
   "cell_type": "markdown",
   "metadata": {},
   "source": [
    "## Solutions"
   ]
  },
  {
   "cell_type": "markdown",
   "metadata": {},
   "source": [
    "#### 1.\n",
    "The number of hidden layers to be used depends upon the complexity of the problem at hand. If we require a large set of features then we might need to add more hidden layers. In general, the number of hidden layers used in the DNN is in the range 8-30."
   ]
  },
  {
   "cell_type": "markdown",
   "metadata": {},
   "source": [
    "#### 2.\n",
    "1. Deep learning usually requires large amounts of training data.\n",
    "2. Successes of deep learning are purely empirical, deep learning algorithms have been criticized as uninterpretable “black-boxes”.\n",
    "3. Deep learning thus far has not been well integrated with prior knowledge.\n"
   ]
  }
 ],
 "metadata": {
  "kernelspec": {
   "display_name": "Python 3",
   "language": "python",
   "name": "python3"
  },
  "language_info": {
   "codemirror_mode": {
    "name": "ipython",
    "version": 3
   },
   "file_extension": ".py",
   "mimetype": "text/x-python",
   "name": "python",
   "nbconvert_exporter": "python",
   "pygments_lexer": "ipython3",
   "version": "3.7.3"
  }
 },
 "nbformat": 4,
 "nbformat_minor": 2
}
