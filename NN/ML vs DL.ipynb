{
 "cells": [
  {
   "cell_type": "markdown",
   "metadata": {},
   "source": [
    "# ML Vs Deep Learning"
   ]
  },
  {
   "cell_type": "markdown",
   "metadata": {},
   "source": [
    "Over the past few years, there has been a monumental shift in technology and how it’s being applied to everyday life. From robots to search engines, deep learning and machine learning are being raved about as the tech fueling our new innovations, but many are left wondering what truly differentiates these two models.\n",
    "\n",
    "Broadly speaking, both machine learning and deep learning are forms of artificial intelligence, the intelligence exhibited by machines using cutting-edge techniques to perform cognitive functions that we associate with intuitive learning; however, each application is unique and offers an array of benefits to the end-user, whether it’s solving unique problems for a particular business case, aiding in speech/facial recognition, speeding up web applications or protecting against breaches or hacks.\n",
    "While the concepts of machine learning and deep learning have been around as early as the 1960s, each model has changed drastically over the years, creating a greater divide between the two."
   ]
  },
  {
   "cell_type": "markdown",
   "metadata": {},
   "source": [
    "### Machine Learning\n",
    "Machine learning is a type of AI that facilitates a computer’s ability to learn and essentially teach itself to evolve as it becomes exposed to new and ever-changing data. For example, Facebook’s news feed uses machine learning in an effort to personalize each individual’s feed based on what they like. The main elements of traditional machine learning software are statistical analysis and predictive analysis used to spot patterns and find hidden insights based on observed data from previous computations without being programmed on where to look.\n",
    "\n",
    "Machine learning has truly evolved over the years by its ability to sift through complex and big data. Many may be surprised to know that they encounter machine learning applications in their everyday lives through streaming services like Netflix and social media algorithms that alert to trending topics or hashtags. While machine learning has become an integral part of processing data, one of the main differences when compared to deep learning is that it requires manual intervention in selecting which features to process, whereas deep learning does it intuitively.\n",
    "\n",
    "Feature extraction in machine learning requires a programmer to tell the computer what kinds of things it should be looking for that will be formative in making a decision, which can be a time-consuming process. This also results in machine learning having decreased accuracy due to the element of human error during the programming process."
   ]
  },
  {
   "cell_type": "markdown",
   "metadata": {},
   "source": [
    "### Deep Learning\n",
    "\n",
    "Deep learning is a machine learning technique that teaches computers to do what comes naturally to humans: learn by example. Deep learning is a key technology behind driverless cars, enabling them to recognize a stop sign, or to distinguish a pedestrian from a lamppost. It is the key to voice control in consumer devices like phones, tablets, TVs, and hands-free speakers. Deep learning is getting lots of attention lately and for good reason. It’s achieving results that were not possible before.\n",
    "\n",
    "In deep learning, a computer model learns to perform classification tasks directly from images, text, or sound. Deep learning models can achieve state-of-the-art accuracy, sometimes exceeding human-level performance. Models are trained by using a large set of labeled data and neural network architectures that contain many layers."
   ]
  },
  {
   "cell_type": "markdown",
   "metadata": {},
   "source": [
    "### Why Deep Learning Matters?\n",
    "\n",
    "In a word, accuracy. Deep learning achieves recognition accuracy at higher levels than ever before. This helps consumer electronics meet user expectations, and it is crucial for safety-critical applications like driverless cars. Recent advances in deep learning have improved to the point where deep learning outperforms humans in some tasks like classifying objects in images.\n",
    "\n",
    "While deep learning was first theorized in the 1980s, there are two main reasons it has only recently become useful:\n",
    "\n",
    "1. Deep learning requires large amounts of labeled data. For example, driverless car development requires millions of images and thousands of hours of video.\n",
    "2. Deep learning requires substantial computing power. High-performance GPUs have a parallel architecture that is efficient for deep learning. When combined with clusters or cloud computing, this enables development teams to reduce training time for a deep learning network from weeks to hours or less."
   ]
  },
  {
   "cell_type": "markdown",
   "metadata": {},
   "source": [
    "### How Deep Learning Works\n",
    "\n",
    "Most deep learning methods use neural network architectures, which is why deep learning models are often referred to as deep neural networks.  \n",
    "The term “deep” usually refers to the number of hidden layers in the neural network. Traditional neural networks only contain 2-3 hidden layers, while deep networks can have as many as 150.  \n",
    "Deep learning models are trained by using large sets of labeled data and neural network architectures that learn features directly from the data without the need for manual feature extraction.\n"
   ]
  },
  {
   "cell_type": "markdown",
   "metadata": {},
   "source": [
    "<img src=\"https://www.extremetech.com/wp-content/uploads/2015/07/NeuralNetwork.png\" style=\"height: 300px;\" />  \n",
    "\n",
    "                                             A typical Neural Network"
   ]
  },
  {
   "cell_type": "markdown",
   "metadata": {},
   "source": [
    "\n",
    "\n",
    "One of the most popular types of deep neural networks is known as convolutional neural networks (CNN or ConvNet). A CNN convolves learned features with input data, and uses 2D convolutional layers, making this architecture well suited to processing 2D data, such as images.\n",
    "\n",
    "CNNs eliminate the need for manual feature extraction, so you do not need to identify features used to classify images. The CNN works by extracting features directly from images. The relevant features are not pretrained; they are learned while the network trains on a collection of images. This automated feature extraction makes deep learning models highly accurate for computer vision tasks such as object classification."
   ]
  },
  {
   "cell_type": "markdown",
   "metadata": {},
   "source": [
    "As with traditional neural networks, convolutional counterparts are made of layers of weighted neurons. But they’re not just modelled on the workings of the brain; they, appropriately enough, take inspiration from the visual system itself.\n",
    "\n",
    "Every layer within a convolutional neural network applies a filter across the image to pick up specific patterns or features. The first few layers detect larger features, such as diagonal lines, while later layers pick up finer details and organise them into complex features such as an ear.\n",
    "\n",
    "The final output layer, like an ordinary neural network, is fully connected (that is, all neurons in that layer are connected to all neurons in the previous layer). It puts together highly specific features – which could include slit-shaped pupils, almond-shaped eyes, eye-to-nose distance – to produce an ultra-precise classification: cat."
   ]
  },
  {
   "cell_type": "markdown",
   "metadata": {},
   "source": [
    "<img src=\"https://www.mathworks.com/help/deeplearning/ug/deep_learning_architecture600pixels.png\" style=\"height: 550px;\" />  \n"
   ]
  },
  {
   "cell_type": "markdown",
   "metadata": {},
   "source": [
    "CNNs learn to detect different features of an image using tens or hundreds of hidden layers. Every hidden layer increases the complexity of the learned image features. For example, the first hidden layer could learn how to detect edges, and the last learns how to detect more complex shapes specifically catered to the shape of the object we are trying to recognize."
   ]
  },
  {
   "cell_type": "markdown",
   "metadata": {},
   "source": [
    "### Major Differences\n",
    "Deep learning is a specialized form of machine learning. A machine learning workflow starts with relevant features being manually extracted from images. The features are then used to create a model that categorizes the objects in the image. With a deep learning workflow, relevant features are automatically extracted from images. In addition, deep learning performs “end-to-end learning” – where a network is given raw data and a task to perform, such as classification, and it learns how to do this automatically.\n",
    "\n",
    "Another key difference is deep learning algorithms scale with data, whereas shallow learning converges. Shallow learning refers to machine learning methods that plateau at a certain level of performance when you add more examples and training data to the network.\n",
    "\n",
    "A key advantage of deep learning networks is that they often continue to improve as the size of your data increases.\n",
    "\n",
    "In machine learning, you manually choose features and a classifier to sort images. With deep learning, feature extraction and modeling steps are automatic."
   ]
  },
  {
   "cell_type": "markdown",
   "metadata": {},
   "source": [
    "<img src=\"https://jp.mathworks.com/matlabcentral/mlc-downloads/downloads/submissions/62558/versions/2/screenshot.png\" style=\"height: 280px;\" />  \n"
   ]
  },
  {
   "cell_type": "markdown",
   "metadata": {},
   "source": [
    "### Choosing between the Two\n",
    "Machine learning offers a variety of techniques and models you can choose based on your application, the size of data you're processing, and the type of problem you want to solve. A successful deep learning application requires a very large amount of data (thousands of images) to train the model, as well as GPUs, or graphics processing units, to rapidly process your data.\n",
    "\n",
    "When choosing between machine learning and deep learning, consider whether you have a high-performance GPU and lots of labeled data. If you don’t have either of those things, it may make more sense to use machine learning instead of deep learning. Deep learning is generally more complex, so you’ll need at least a few thousand images to get reliable results. Having a high-performance GPU means the model will take less time to analyze all those images."
   ]
  },
  {
   "cell_type": "markdown",
   "metadata": {},
   "source": [
    "### Create and Train a DL Model\n",
    "The three most common ways people use deep learning to perform object classification are:\n",
    "\n",
    "#### Training from Scratch\n",
    "To train a deep network from scratch, you gather a very large labeled data set and design a network architecture that will learn the features and model. This is good for new applications, or applications that will have a large number of output categories. This is a less common approach because with the large amount of data and rate of learning, these networks typically take days or weeks to train.\n",
    "\n",
    "#### Transfer Learning\n",
    "Most deep learning applications use the transfer learning approach, a process that involves fine-tuning a pretrained model. You start with an existing network, and feed in new data containing previously unknown classes. After making some tweaks to the network, you can now perform a new task, such as categorizing only dogs or cats instead of 1000 different objects. This also has the advantage of needing much less data (processing thousands of images, rather than millions), so computation time drops to minutes or hours.  \n",
    "Transfer learning requires an interface to the internals of the pre-existing network, so it can be surgically modified and enhanced for the new task.\n",
    "\n",
    "#### Feature Extraction\n",
    "A slightly less common, more specialized approach to deep learning is to use the network as a feature extractor. Since all the layers are tasked with learning certain features from images, we can pull these features out of the network at any time during the training process. These features can then be used as input to a machine learning model such as support vector machines (SVM)."
   ]
  },
  {
   "cell_type": "markdown",
   "metadata": {},
   "source": [
    "### Examples of Deep Learning at Work\n",
    "\n",
    "##### Automated Driving:\n",
    "Automotive researchers are using deep learning to automatically detect objects such as stop signs and traffic lights. In addition, deep learning is used to detect pedestrians, which helps decrease accidents.\n",
    "\n",
    "##### Aerospace and Defense: \n",
    "Deep learning is used to identify objects from satellites that locate areas of interest, and identify safe or unsafe zones for troops.\n",
    "\n",
    "##### Medical Research: \n",
    "Cancer researchers are using deep learning to automatically detect cancer cells. Teams at UCLA built an advanced microscope that yields a high-dimensional data set used to train a deep learning application to accurately identify cancer cells.\n",
    "\n",
    "##### Industrial Automation: \n",
    "Deep learning is helping to improve worker safety around heavy machinery by automatically detecting when people or objects are within an unsafe distance of machines.\n",
    "\n",
    "##### Electronics: \n",
    "Deep learning is being used in automated hearing and speech translation. For example, home assistance devices that respond to your voice and know your preferences are powered by deep learning applications."
   ]
  }
 ],
 "metadata": {
  "kernelspec": {
   "display_name": "Python 3",
   "language": "python",
   "name": "python3"
  },
  "language_info": {
   "codemirror_mode": {
    "name": "ipython",
    "version": 3
   },
   "file_extension": ".py",
   "mimetype": "text/x-python",
   "name": "python",
   "nbconvert_exporter": "python",
   "pygments_lexer": "ipython3",
   "version": "3.7.3"
  }
 },
 "nbformat": 4,
 "nbformat_minor": 2
}
