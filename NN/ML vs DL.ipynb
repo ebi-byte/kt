{
 "cells": [
  {
   "cell_type": "markdown",
   "metadata": {},
   "source": [
    "# ML Vs Deep Learning"
   ]
  },
  {
   "cell_type": "markdown",
   "metadata": {},
   "source": [
    "### Machine Learning\n",
    "Machine learning is a type of AI that facilitates a computer’s ability to learn and essentially teach itself to evolve as it becomes exposed to new and ever-changing data. For example, Facebook’s news feed uses machine learning in an effort to personalize each individual’s feed based on what they like. The main elements of traditional machine learning software are statistical analysis and predictive analysis used to spot patterns and find hidden insights based on observed data from previous computations without being programmed on where to look.\n",
    "\n",
    "Machine learning has truly evolved over the years by its ability to sift through complex and big data. Many may be surprised to know that they encounter machine learning applications in their everyday lives through streaming services like Netflix and social media algorithms that alert to trending topics or hashtags. While machine learning has become an integral part of processing data, one of the main differences when compared to deep learning is that it requires manual intervention in selecting which features to process, whereas deep learning does it intuitively.\n",
    "\n",
    "Feature extraction in machine learning requires a programmer to tell the computer what kinds of things it should be looking for that will be formative in making a decision, which can be a time-consuming process. This also results in machine learning having decreased accuracy due to the element of human error during the programming process."
   ]
  },
  {
   "cell_type": "markdown",
   "metadata": {},
   "source": [
    "### Deep Learning\n",
    "\n",
    "Deep learning is a machine learning technique that teaches computers to do what comes naturally to humans: learn by example. Deep learning is a key technology behind driverless cars, enabling them to recognize a stop sign, or to distinguish a pedestrian from a lamppost. It is the key to voice control in consumer devices like phones, tablets, TVs, and hands-free speakers. Deep learning is getting lots of attention lately and for good reason. It’s achieving results that were not possible before.\n",
    "\n",
    "In deep learning, a computer model learns to perform classification tasks directly from images, text, or sound. Deep learning models can achieve state-of-the-art accuracy, sometimes exceeding human-level performance. Models are trained by using a large set of labeled data and neural network architectures that contain many layers."
   ]
  },
  {
   "cell_type": "markdown",
   "metadata": {},
   "source": [
    "### Major Differences\n",
    "Deep learning is a specialized form of machine learning. A machine learning workflow starts with relevant features being manually extracted from images. The features are then used to create a model that categorizes the objects in the image. With a deep learning workflow, relevant features are automatically extracted from images. In addition, deep learning performs “end-to-end learning” – where a network is given raw data and a task to perform, such as classification, and it learns how to do this automatically.\n",
    "\n",
    "Another key difference is deep learning algorithms scale with data, whereas shallow learning converges. Shallow learning refers to machine learning methods that plateau at a certain level of performance when you add more examples and training data to the network.\n",
    "\n",
    "A key advantage of deep learning networks is that they often continue to improve as the size of your data increases.\n",
    "\n",
    "In machine learning, you manually choose features and a classifier to sort images. With deep learning, feature extraction and modeling steps are automatic."
   ]
  },
  {
   "cell_type": "markdown",
   "metadata": {},
   "source": [
    "### Questionnaire\n",
    "#### How many hidden layers are to be used in Deep Neural Networks?\n",
    "#### What are the limitations of Deep Learning?"
   ]
  },
  {
   "cell_type": "markdown",
   "metadata": {},
   "source": [
    "[Solutions](https://github.com/ebi-byte/kt/blob/master/NN/ML%20vs%20DL%20Solutions.ipynb)"
   ]
  }
 ],
 "metadata": {
  "kernelspec": {
   "display_name": "Python 3",
   "language": "python",
   "name": "python3"
  },
  "language_info": {
   "codemirror_mode": {
    "name": "ipython",
    "version": 3
   },
   "file_extension": ".py",
   "mimetype": "text/x-python",
   "name": "python",
   "nbconvert_exporter": "python",
   "pygments_lexer": "ipython3",
   "version": "3.7.3"
  }
 },
 "nbformat": 4,
 "nbformat_minor": 2
}
