{
 "cells": [
  {
   "cell_type": "markdown",
   "metadata": {},
   "source": [
    "**1.**\n",
    "a. The GRU controls the flow of information like the LSTM unit, but without having to use a memory unit.\n",
    "\n",
    "b. GRUs train faster and perform better than LSTMs on less training data if you are doing language modeling. \n",
    "\n",
    "c. GRUs are simpler and thus easier to modify, for example adding new gates in case of additional input to the network. It's just less code in general."
   ]
  }
 ],
 "metadata": {
  "kernelspec": {
   "display_name": "Python 3",
   "language": "python",
   "name": "python3"
  },
  "language_info": {
   "codemirror_mode": {
    "name": "ipython",
    "version": 3
   },
   "file_extension": ".py",
   "mimetype": "text/x-python",
   "name": "python",
   "nbconvert_exporter": "python",
   "pygments_lexer": "ipython3",
   "version": "3.7.3"
  }
 },
 "nbformat": 4,
 "nbformat_minor": 2
}
